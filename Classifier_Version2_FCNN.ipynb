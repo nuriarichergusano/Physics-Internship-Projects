{
 "cells": [
  {
   "cell_type": "markdown",
   "id": "a8e90170",
   "metadata": {},
   "source": [
    "Objetive of the project could be finding a regularisation of the latent space to extract high-level features of the signals obtained from the Sauron Semiconductors placed inside the AGATA.\n",
    "\n",
    "Things to do:\n",
    "-Solve errors of Calibration_modified.py.\n",
    "-Find regularisation strategies from the book ML for Physicist in this unsupervised autoencoder.\n",
    "-Add .root dataset of Daniele Mengoni to the code.\n",
    "-Improve the noise reduction by including other techniques to the dataset (e.g. cross-validation).\n",
    "-Add axis units.\n"
   ]
  },
  {
   "cell_type": "code",
   "execution_count": 1,
   "id": "61f5878a-f63d-4176-95bc-635d4dd1f85d",
   "metadata": {
    "notebookRunGroups": {
     "groupValue": "1"
    },
    "tags": []
   },
   "outputs": [],
   "source": [
    "#Loading the libraries and compiling the c++ module\n",
    "\n",
    "from torch.utils.cpp_extension import load\n",
    "import torch\n",
    "import torch.nn as nn\n",
    "import matplotlib.pyplot as plt\n",
    "#from sklearn.metrics import confusion_matrix\n",
    "import numpy as np\n",
    "#import seaborn as sn\n",
    "import os\n",
    "import glob\n",
    "import lightning\n",
    "import matplotlib\n",
    "import math\n",
    "import torchmetrics\n",
    "import pytorch_model_summary as pms\n",
    "\n",
    "\n",
    "#from autoencoder import *\n",
    "\n",
    "#Compile the c++ module\n",
    "pid_dataset = load(name=\"PIDDataset\",\n",
    "                   sources=[\"PidDataset.cpp\",\"ReadRawData.cpp\",\"ReadBinaryData.cpp\", \"mwdlib.cpp\"],\n",
    "                   verbose=True,\n",
    "                   extra_cflags=['-O3'],\n",
    "                  )\n",
    "\n",
    "# TO SHOW INTERACTIVE PLOT\n",
    "%matplotlib widget\n",
    "\n",
    "torch.set_float32_matmul_precision('medium')"
   ]
  },
  {
   "cell_type": "code",
   "execution_count": null,
   "id": "dacbaf62",
   "metadata": {},
   "outputs": [],
   "source": [
    "#Define NN parameters\n",
    "\n",
    "\n",
    "derivative_order=1\n",
    "normalized=False\n",
    "convolutional=False #I can try to put this to False!!!\n",
    "dropout_p=0.0 #In big NN we can put this parameter to 50% to avoid overfitting, by eliminating neurons. In this case, a smaller NN, it is not that useful.\n",
    "#nLayers_list = [20, 30, 40, 50]\n",
    "nLayers_list = [4,6,8,10, 20, 60, 100]\n",
    "#act_fn = torch.nn.ReLU\n",
    "kernel_size = 6\n",
    "stride = 2\n",
    "act_fn = torch.nn.GELU #Activation function\n",
    "#pooling_kernel_size = 2\n",
    "\n",
    "#Training parameters\n",
    "batch_size = 150 #1000 was working. \n",
    "learning_rate = 3e-3 #If it's too big, it may go out of the gradient descent.\n",
    "#batch_size = 5000 #this only makes things slow\n",
    "retrain=True #??\n",
    "version_nr = 0\n",
    "EarlyStoppingNr = 10 #15 was working.\n",
    "max_epochs = 100 #before we had 300.\n",
    "exclude_outliers = False\n",
    "\n",
    "\n",
    "\n",
    "#Dataset\n",
    "dataset = \"Fazia\"\n",
    "\n",
    "if dataset == \"Sauron\":\n",
    "    trainDatasetFile = \"./DataFusEvSauron/RU_caendig_i1468_0005_0000.caendat\"\n",
    "    datasetEvents = 3_000_000 #Events=Number of total signals.\n",
    "    samples_number=128\n",
    "    first_sample=0\n",
    "    n_channels=64\n",
    "elif dataset == \"Oscar\":\n",
    "    trainDatasetFile = \"./DataLiFOscar/data_0-7.caendat\"\n",
    "    datasetEvents = 709_755\n",
    "    samples_number=40\n",
    "    first_sample=200\n",
    "    n_channels=16\n",
    "elif dataset == \"Fazia\":\n",
    "    trainDatasetFile = \"./Fazia/Signal_and_IdCal_221.dat\"\n",
    "    datasetEvents = 709_756\n",
    "    samples_number=30\n",
    "    first_sample=10\n",
    "    n_channels=25\n",
    "\n"
   ]
  },
  {
   "cell_type": "code",
   "execution_count": null,
   "id": "eb40f34f",
   "metadata": {},
   "outputs": [],
   "source": [
    "\n",
    "class FCNet(lightning.LightningModule):\n",
    "    def __init__(self, input_size: int, \n",
    "                 num_classes: int, \n",
    "                 hidden_layers: list = [512, 256], \n",
    "                 act_fn: object = nn.GELU, \n",
    "                 dropout_p=0.5, \n",
    "                 class_weights=None):\n",
    "        super().__init__()\n",
    "\n",
    "        self.accuracy = torchmetrics.Accuracy(task='multiclass', num_classes=num_classes)\n",
    "        if class_weights is not None:\n",
    "            self.criterion = nn.CrossEntropyLoss(weight=class_weights)\n",
    "        else:\n",
    "            self.criterion = nn.CrossEntropyLoss()\n",
    "        self.num_classes = num_classes\n",
    "\n",
    "        # Creación de capas completamente conectadas\n",
    "        layers = []\n",
    "        in_features = input_size\n",
    "\n",
    "\n",
    "        # Aplanar la entrada si no es un vector\n",
    "        layers.append(nn.Flatten())\n",
    "\n",
    "        # Agregar capas ocultas\n",
    "        for hidden_size in hidden_layers:\n",
    "            layers.append(nn.Linear(in_features, hidden_size))\n",
    "            layers.append(act_fn())\n",
    "            layers.append(nn.Dropout(dropout_p))\n",
    "            in_features = hidden_size\n",
    "\n",
    "        # Capa de salida\n",
    "        layers.append(nn.Linear(in_features, num_classes))\n",
    "        layers.append(nn.Softmax(dim=1))\n",
    "\n",
    "        self.network = nn.Sequential(*layers)\n",
    "\n",
    "    def forward(self, x):\n",
    "        return self.network(x)\n",
    "\n",
    "    def _get_reconstruction_loss(self, batch):\n",
    "        x, y = batch\n",
    "        x_hat = self.forward(x)\n",
    "        loss = self.criterion(x_hat, y)\n",
    "        return loss\n",
    "\n",
    "    def configure_optimizers(self):\n",
    "        optimizer = torch.optim.Adam(self.parameters(), lr=1e-3)\n",
    "        scheduler = torch.optim.lr_scheduler.ReduceLROnPlateau(optimizer, mode=\"min\", factor=0.2, patience=3, min_lr=5e-7)\n",
    "        return {\"optimizer\": optimizer, \"lr_scheduler\": scheduler, \"monitor\": \"val_loss\"}\n",
    "\n",
    "    def training_step(self, batch, batch_idx):\n",
    "        x, y = batch\n",
    "        x_hat = self(x)\n",
    "        loss = self.criterion(x_hat, y)\n",
    "        acc = self.accuracy(x_hat, y)\n",
    "        self.log('train_loss', loss, on_step=True, on_epoch=True)\n",
    "        self.log('train_acc', acc, on_step=True, on_epoch=True)\n",
    "        return loss\n",
    "\n",
    "    def validation_step(self, batch, batch_idx):\n",
    "        x, y = batch\n",
    "        x_hat = self(x)\n",
    "        loss = self.criterion(x_hat, y)\n",
    "        acc = self.accuracy(x_hat, y)\n",
    "        \n",
    "        self.log('val_loss', loss, on_step=False, on_epoch=True)\n",
    "        self.log('val_acc', acc, on_step=False, on_epoch=True)\n",
    "        return {'val_loss': loss, 'val_acc': acc, 'preds': x_hat, 'targets': y}\n",
    "\n",
    "    def test_step(self, batch, batch_idx):\n",
    "        x, y = batch\n",
    "        x_hat = self(x)\n",
    "        loss = self.criterion(x_hat, y)\n",
    "        acc = self.accuracy(x_hat, y)\n",
    "        self.log('test_loss', loss, on_step=False, on_epoch=True)\n",
    "        self.log('test_acc', acc, on_step=False, on_epoch=True)\n",
    "        return {'test_loss': loss, 'test_acc': acc, 'preds': x_hat, 'targets': y}\n",
    "\n"
   ]
  },
  {
   "cell_type": "code",
   "execution_count": null,
   "id": "1f005f50",
   "metadata": {},
   "outputs": [],
   "source": [
    "#Load the dataset\n",
    "\n",
    "\n",
    "split_percent = [0.8, 0.1, 0.1] #90% for training, 5% for testing and 5% for validating.\n",
    "\n",
    "[train_dataset, val_dataset, test_dataset] = torch.utils.data.random_split(\n",
    "                pid_dataset.PIDDataset(root=trainDatasetFile, \n",
    "                                       mode=pid_dataset.kTrain, \n",
    "                                       count=datasetEvents, \n",
    "                                       nder=derivative_order, \n",
    "                                       nsamples=samples_number, \n",
    "                                       firstsample=first_sample,\n",
    "                                       nchannels=n_channels,\n",
    "                                       normalized=normalized,\n",
    "                                       discardenergies=False,\n",
    "                                       minenergy=0.55,\n",
    "                                       maxenergy=100,),\n",
    "                                       split_percent)\n",
    "\n",
    "#Sampler to normalize the amount of types of each class\n",
    "weights = torch.zeros(len(train_dataset))\n",
    "class_counts = torch.zeros(n_channels)\n",
    "\n",
    "#cont the occurrence of each class in the dataset\n",
    "for i in range(len(train_dataset)):\n",
    "    class_counts[train_dataset[i][1]] += 1\n",
    "\n",
    "#calculate the weights\n",
    "for i in range(len(train_dataset)):\n",
    "    weights[i] = class_counts[train_dataset[i][1]]\n",
    "    \n",
    "weights = 1.0 / weights\n",
    "weights = weights / weights.sum()\n",
    "\n",
    "sampler = torch.utils.data.WeightedRandomSampler(weights=weights, num_samples=len(train_dataset), replacement=True)\n",
    "\n",
    "train_loader = torch.utils.data.DataLoader(train_dataset, \n",
    "                                           batch_size=batch_size, \n",
    "                                           #shuffle=True, \n",
    "                                           drop_last=True, \n",
    "                                           pin_memory=True, \n",
    "                                           num_workers=4,\n",
    "                                           sampler=sampler)\n",
    "#Batch size: number of signals per batch.\n",
    "#Shuffle: shuffle data at every epoch.\n",
    "#Epoch: During an epoch, the model processes each training example once, \n",
    "#and the learning process updates the model's parameters based on the loss calculated from the training examples.\n",
    "\n",
    "val_loader = torch.utils.data.DataLoader(val_dataset, \n",
    "                                         batch_size=2_000, \n",
    "                                         shuffle=False, \n",
    "                                         drop_last=False, \n",
    "                                         num_workers=4)\n",
    "test_loader = torch.utils.data.DataLoader(test_dataset, \n",
    "                                          batch_size=2_000, \n",
    "                                          shuffle=False, \n",
    "                                          drop_last=False, \n",
    "                                          num_workers=4)\n",
    "\n",
    "def get_train_images(num):\n",
    "    #return [torch.stack([train_dataset[i][0] for i in range(num)], dim=0), torch.stack([train_dataset[i][1] for i in range(num)], dim=0)]\n",
    "    return torch.stack([train_dataset[i][0] for i in range(num)], dim=0)\n",
    "    #Here i is the batch and what is 0? dim=0 is the dimension of the output tensor.\n",
    "    #What are IDs???\n",
    "\n",
    "def get_train_labels(num):\n",
    "    #return [torch.stack([train_dataset[i][0] for i in range(num)], dim=0), torch.stack([train_dataset[i][1] for i in range(num)], dim=0)]\n",
    "    return torch.stack([train_dataset[i][1] for i in range(num)], dim=0)\n",
    "    #Here i is the batch and what is 0? dim=0 is the dimension of the output tensor.\n",
    "    #What are IDs???\n",
    "\n",
    "def get_validation_images(num):\n",
    "    #return [torch.stack([val_dataset[i][0] for i in range(num)], dim=0), torch.stack([val_dataset[i][1] for i in range(num)], dim=0)]\n",
    "    return torch.stack([val_dataset[i][0] for i in range(num)], dim=0)\n",
    "\n",
    "def get_validation_labels(num):\n",
    "    #return [torch.stack([val_dataset[i][0] for i in range(num)], dim=0), torch.stack([val_dataset[i][1] for i in range(num)], dim=0)]\n",
    "    return torch.stack([val_dataset[i][1] for i in range(num)], dim=0)\n",
    "    \n",
    "def get_test_images(num):\n",
    "    #return [torch.stack([test_dataset[i][0] for i in range(num)], dim=0), torch.stack([test_dataset[i][1] for i in range(num)], dim=0)]\n",
    "    return torch.stack([test_dataset[i][0] for i in range(num)], dim=0)\n"
   ]
  },
  {
   "cell_type": "code",
   "execution_count": null,
   "id": "dffd3aa2",
   "metadata": {},
   "outputs": [
    {
     "name": "stdout",
     "output_type": "stream",
     "text": [
      "-----------------------------------------------------------------------\n",
      "      Layer (type)        Output Shape         Param #     Tr. Param #\n",
      "=======================================================================\n",
      "         Flatten-1             [4, 31]               0               0\n",
      "          Linear-2              [4, 4]             128             128\n",
      "            GELU-3              [4, 4]               0               0\n",
      "         Dropout-4              [4, 4]               0               0\n",
      "          Linear-5             [4, 25]             125             125\n",
      "         Softmax-6             [4, 25]               0               0\n",
      "=======================================================================\n",
      "Total params: 253\n",
      "Trainable params: 253\n",
      "Non-trainable params: 0\n",
      "-----------------------------------------------------------------------\n",
      "-----------------------------------------------------------------------\n",
      "      Layer (type)        Output Shape         Param #     Tr. Param #\n",
      "=======================================================================\n",
      "         Flatten-1             [4, 31]               0               0\n",
      "          Linear-2              [4, 6]             192             192\n",
      "            GELU-3              [4, 6]               0               0\n",
      "         Dropout-4              [4, 6]               0               0\n",
      "          Linear-5             [4, 25]             175             175\n",
      "         Softmax-6             [4, 25]               0               0\n",
      "=======================================================================\n",
      "Total params: 367\n",
      "Trainable params: 367\n",
      "Non-trainable params: 0\n",
      "-----------------------------------------------------------------------\n",
      "-----------------------------------------------------------------------\n",
      "      Layer (type)        Output Shape         Param #     Tr. Param #\n",
      "=======================================================================\n",
      "         Flatten-1             [4, 31]               0               0\n",
      "          Linear-2              [4, 8]             256             256\n",
      "            GELU-3              [4, 8]               0               0\n",
      "         Dropout-4              [4, 8]               0               0\n",
      "          Linear-5             [4, 25]             225             225\n",
      "         Softmax-6             [4, 25]               0               0\n",
      "=======================================================================\n",
      "Total params: 481\n",
      "Trainable params: 481\n",
      "Non-trainable params: 0\n",
      "-----------------------------------------------------------------------\n",
      "-----------------------------------------------------------------------\n",
      "      Layer (type)        Output Shape         Param #     Tr. Param #\n",
      "=======================================================================\n",
      "         Flatten-1             [4, 31]               0               0\n",
      "          Linear-2             [4, 10]             320             320\n",
      "            GELU-3             [4, 10]               0               0\n",
      "         Dropout-4             [4, 10]               0               0\n",
      "          Linear-5             [4, 25]             275             275\n",
      "         Softmax-6             [4, 25]               0               0\n",
      "=======================================================================\n",
      "Total params: 595\n",
      "Trainable params: 595\n",
      "Non-trainable params: 0\n",
      "-----------------------------------------------------------------------\n",
      "-----------------------------------------------------------------------\n",
      "      Layer (type)        Output Shape         Param #     Tr. Param #\n",
      "=======================================================================\n",
      "         Flatten-1             [4, 31]               0               0\n",
      "          Linear-2             [4, 20]             640             640\n",
      "            GELU-3             [4, 20]               0               0\n",
      "         Dropout-4             [4, 20]               0               0\n",
      "          Linear-5             [4, 25]             525             525\n",
      "         Softmax-6             [4, 25]               0               0\n",
      "=======================================================================\n",
      "Total params: 1,165\n",
      "Trainable params: 1,165\n",
      "Non-trainable params: 0\n",
      "-----------------------------------------------------------------------\n",
      "-----------------------------------------------------------------------\n",
      "      Layer (type)        Output Shape         Param #     Tr. Param #\n",
      "=======================================================================\n",
      "         Flatten-1             [4, 31]               0               0\n",
      "          Linear-2             [4, 60]           1,920           1,920\n",
      "            GELU-3             [4, 60]               0               0\n",
      "         Dropout-4             [4, 60]               0               0\n",
      "          Linear-5             [4, 25]           1,525           1,525\n",
      "         Softmax-6             [4, 25]               0               0\n",
      "=======================================================================\n",
      "Total params: 3,445\n",
      "Trainable params: 3,445\n",
      "Non-trainable params: 0\n",
      "-----------------------------------------------------------------------\n",
      "-----------------------------------------------------------------------\n",
      "      Layer (type)        Output Shape         Param #     Tr. Param #\n",
      "=======================================================================\n",
      "         Flatten-1             [4, 31]               0               0\n",
      "          Linear-2            [4, 100]           3,200           3,200\n",
      "            GELU-3            [4, 100]               0               0\n",
      "         Dropout-4            [4, 100]               0               0\n",
      "          Linear-5             [4, 25]           2,525           2,525\n",
      "         Softmax-6             [4, 25]               0               0\n",
      "=======================================================================\n",
      "Total params: 5,725\n",
      "Trainable params: 5,725\n",
      "Non-trainable params: 0\n",
      "-----------------------------------------------------------------------\n"
     ]
    }
   ],
   "source": [
    "#Debug cell???\n",
    "\n",
    "# Supongamos que nLayers_list es una lista de tamaños para las capas ocultas\n",
    "for nLayers in nLayers_list:\n",
    "    input_size = derivative_order * samples_number + 1 # Ajusta esto de acuerdo a tus datos de entrada\n",
    "\n",
    "    # Crea la red totalmente conectada con el tamaño de las capas ocultas basadas en nLayers\n",
    "    test = FCNet(input_size=input_size, \n",
    "                num_classes=n_channels, \n",
    "                hidden_layers=[nLayers],  # Define la lista de capas ocultas con nLayers neuronas\n",
    "                act_fn=nn.GELU, \n",
    "                dropout_p=0.5, \n",
    "                class_weights=None)\n",
    "\n",
    "    x = test(get_train_images(4))  # x es la salida de la red\n",
    "    print(pms.summary(test, get_train_images(4)))  # Resumen de la arquitectura\n"
   ]
  },
  {
   "cell_type": "code",
   "execution_count": null,
   "id": "966c82c6",
   "metadata": {},
   "outputs": [],
   "source": [
    "#Callback functions\n",
    "\n",
    "CHECKPOINT_PATH = os.environ.get(\"PATH_CHECKPOINT\", \"saved_models/classifier\")\n",
    "\n",
    "class ConfusionMatrixCallback(lightning.pytorch.callbacks.Callback):\n",
    "    def __init__(self, input, labels, every_n_epochs=1, data_type=\"train\"):\n",
    "        super().__init__()# It's often used to call the parent class's __init__ method to ensure that the parent class is properly initialized when creating an instance of the derived class.\n",
    "        # Only save uthose images every N epochs (otherwise tensorboard gets quite large)\n",
    "        self.every_n_epochs = every_n_epochs\n",
    "        self.input = input\n",
    "        self.labels = labels\n",
    "        self.data_type = data_type\n",
    "\n",
    "    \n",
    "    def on_validation_epoch_end(self, trainer, pl_module):\n",
    "        signals = self.input.to(pl_module.device)\n",
    "        with torch.no_grad():\n",
    "            pl_module.eval()\n",
    "            print(signals.shape)\n",
    "            output = pl_module(signals)\n",
    "            pl_module.train()\n",
    "\n",
    "        #calculate te confusion matrix\n",
    "        cm = torchmetrics.ConfusionMatrix(num_classes=pl_module.num_classes, task='multiclass')\n",
    "        cm.update(output, self.labels)\n",
    "\n",
    "        fig, ax = plt.subplots(figsize=(15, 15))\n",
    "        cm = cm.compute().numpy()\n",
    "        cax = ax.matshow(cm, cmap='Blues')\n",
    "        plt.colorbar(cax)\n",
    "        for (i, j), val in np.ndenumerate(cm):\n",
    "            ax.text(j, i, f'{val}', ha='center', va='center', color='black')\n",
    "\n",
    "        #ax.imshow(cm.compute().numpy(), cmap='hot', interpolation='nearest')\n",
    "        ax.set_title('Confusion matrix')\n",
    "        ax.set_xlabel('Predicted')\n",
    "        ax.set_ylabel('True')\n",
    "        if self.data_type == \"train\":\n",
    "            trainer.logger.experiment.add_figure(\"Confusion Matrix Train\", fig, global_step=trainer.global_step)\n",
    "        elif self.data_type == \"validation\":\n",
    "            trainer.logger.experiment.add_figure(\"Confusion Matrix Validation\", fig, global_step=trainer.global_step)\n"
   ]
  },
  {
   "cell_type": "code",
   "execution_count": null,
   "id": "e63f90d0",
   "metadata": {},
   "outputs": [
    {
     "ename": "",
     "evalue": "",
     "output_type": "error",
     "traceback": [
      "\u001b[1;31mThe Kernel crashed while executing code in the current cell or a previous cell. \n",
      "\u001b[1;31mPlease review the code in the cell(s) to identify a possible cause of the failure. \n",
      "\u001b[1;31mClick <a href='https://aka.ms/vscodeJupyterKernelCrash'>here</a> for more info. \n",
      "\u001b[1;31mView Jupyter <a href='command:jupyter.viewOutput'>log</a> for further details."
     ]
    }
   ],
   "source": [
    "#Training function definition\n",
    "\n",
    "def train(base_channel_size, retrain=False):\n",
    "    # Create a PyTorch Lightning trainer with the generation callback\n",
    "\n",
    "    netName = \"model_bc%i_do%i\" % (base_channel_size, derivative_order)\n",
    "    \n",
    "    callbacks=[\n",
    "        #lightning.pytorch.callbacks.ModelCheckpoint(save_weights_only=True),\n",
    "        #ImageCallback(every_n_epochs=1),\n",
    "        ConfusionMatrixCallback(input=get_train_images(40_000), labels=get_train_labels(40_000), every_n_epochs=1, data_type=\"train\"),\n",
    "        ConfusionMatrixCallback(input=get_validation_images(10_000), labels=get_validation_labels(10_000), every_n_epochs=1, data_type=\"validation\"),\n",
    "        lightning.pytorch.callbacks.LearningRateMonitor(\"epoch\"),\n",
    "        lightning.pytorch.callbacks.ModelCheckpoint(\n",
    "            monitor='val_loss',\n",
    "            mode='min',\n",
    "            save_top_k=1,  # Save only the best checkpoint based on validation loss\n",
    "            save_last=True,  # Save the latest checkpoint\n",
    "            filename='{epoch}-{val_loss:.2f}',  # Customize the filename with epoch and validation loss\n",
    "            verbose=True,\n",
    "        ),\n",
    "        lightning.pytorch.callbacks.EarlyStopping(\n",
    "            monitor='val_loss',\n",
    "            mode='min',\n",
    "            patience=EarlyStoppingNr,\n",
    "            verbose=False,\n",
    "            min_delta=0.00,\n",
    "        ),\n",
    "        # Other callbacks...\n",
    "    ]\n",
    "\n",
    "    trainer = lightning.Trainer(\n",
    "        default_root_dir=os.path.join(CHECKPOINT_PATH, netName),\n",
    "        accelerator=\"auto\",\n",
    "        devices=1,\n",
    "        callbacks=callbacks,\n",
    "        max_epochs=max_epochs,\n",
    "        logger=lightning.pytorch.loggers.tensorboard.TensorBoardLogger(\"saved_models/classifier\", \n",
    "                                                                       name=netName),\n",
    "    )\n",
    "    trainer.logger._log_graph = True  # If True, we plot the computation graph in tensorboard\n",
    "    trainer.logger._default_hp_metric = None  # Optional logging argument that we don't need\n",
    "\n",
    "    # Check whether pretrained model exists. If yes, load it and skip training\n",
    "    #ckpt_files = glob.glob('saved_models/autoencoder/%s/version_0/checkpoints/epoch*.ckpt' % (netName))\n",
    "    ckpt_files = glob.glob('saved_models/classifier/%s/version_%i/checkpoints/epoch*.ckpt' % (netName, version_nr))\n",
    "\n",
    "    if ckpt_files and not retrain:\n",
    "        print(\"Found pretrained model, called %s\" % ckpt_files[0])\n",
    "        model = FCNet.load_from_checkpoint(ckpt_files[0])\n",
    "        #model.to(\"cuda\")\n",
    "        model.to(\"cpu\")\n",
    "    else:   \n",
    "        #ids_nr = get_test_images(1)[1].shape[1] - 1 \n",
    "       # Dentro de la función train, cambia la siguiente línea\n",
    "        model = FCNet(input_size=input_size,  # Reemplaza base_channel_size con el valor correcto de input_size\n",
    "              num_classes=n_channels,\n",
    "              hidden_layers=[nlayers],  # Por ejemplo, puedes usar nlayers o cualquier otro parámetro\n",
    "              act_fn=act_fn, \n",
    "              dropout_p=dropout_p,\n",
    "              class_weights=None)\n",
    "\n",
    "                        \n",
    "        print(\"testing on a single batch...\")\n",
    "        print(\"inished testing on a single batch...\")\n",
    "\n",
    "        trainer.fit(model, train_loader, val_loader)\n",
    "\n",
    "        print(\"Finished training, saving model...\")\n",
    "\n",
    "        # Test best model on validation and test set\n",
    "        val_result = trainer.test(model, dataloaders=val_loader, verbose=False)\n",
    "        test_result = trainer.test(model, dataloaders=test_loader, verbose=False)\n",
    "        result = {\"test\": test_result, \"val\": val_result}\n",
    "        return model, result\n",
    "        print(\"Finished training, saving model...\")\n",
    "\n",
    "    # Test best model on validation and test set\n",
    "    val_result = trainer.test(model, dataloaders=val_loader, verbose=False)\n",
    "    test_result = trainer.test(model, dataloaders=test_loader, verbose=False)\n",
    "    result = {\"test\": test_result, \"val\": val_result}\n",
    "    return model, result"
   ]
  },
  {
   "cell_type": "code",
   "execution_count": null,
   "id": "3b155217",
   "metadata": {},
   "outputs": [
    {
     "name": "stderr",
     "output_type": "stream",
     "text": [
      "/home/luna/miniconda3/envs/pytorch/lib/python3.11/site-packages/torch/cuda/__init__.py:611: UserWarning: Can't initialize NVML\n",
      "  warnings.warn(\"Can't initialize NVML\")\n",
      "GPU available: False, used: False\n",
      "TPU available: False, using: 0 TPU cores\n",
      "IPU available: False, using: 0 IPUs\n",
      "HPU available: False, using: 0 HPUs\n",
      "\n",
      "  | Name      | Type               | Params\n",
      "-------------------------------------------------\n",
      "0 | accuracy  | MulticlassAccuracy | 0     \n",
      "1 | criterion | CrossEntropyLoss   | 0     \n",
      "2 | network   | Sequential         | 253   \n",
      "-------------------------------------------------\n",
      "253       Trainable params\n",
      "0         Non-trainable params\n",
      "253       Total params\n",
      "0.001     Total estimated model params size (MB)\n"
     ]
    },
    {
     "name": "stdout",
     "output_type": "stream",
     "text": [
      "testing on a single batch...\n",
      "inished testing on a single batch...\n"
     ]
    },
    {
     "name": "stderr",
     "output_type": "stream",
     "text": [
      "/home/luna/miniconda3/envs/pytorch/lib/python3.11/site-packages/lightning/pytorch/loggers/tensorboard.py:187: Could not log computational graph to TensorBoard: The `model.example_input_array` attribute is not set or `input_array` was not given.\n"
     ]
    },
    {
     "data": {
      "application/vnd.jupyter.widget-view+json": {
       "model_id": "687a7cc9065845f6b71383b25aab851e",
       "version_major": 2,
       "version_minor": 0
      },
      "text/plain": [
       "Sanity Checking: |          | 0/? [00:00<?, ?it/s]"
      ]
     },
     "metadata": {},
     "output_type": "display_data"
    },
    {
     "name": "stdout",
     "output_type": "stream",
     "text": [
      "torch.Size([40000, 1, 1, 31])\n",
      "torch.Size([10000, 1, 1, 31])\n"
     ]
    },
    {
     "data": {
      "application/vnd.jupyter.widget-view+json": {
       "model_id": "7a7218c1499946bbb2f69fab8977c7e7",
       "version_major": 2,
       "version_minor": 0
      },
      "text/plain": [
       "Training: |          | 0/? [00:00<?, ?it/s]"
      ]
     },
     "metadata": {},
     "output_type": "display_data"
    },
    {
     "data": {
      "application/vnd.jupyter.widget-view+json": {
       "model_id": "8ca2943293604eaab3b4815c22ede0ec",
       "version_major": 2,
       "version_minor": 0
      },
      "text/plain": [
       "Validation: |          | 0/? [00:00<?, ?it/s]"
      ]
     },
     "metadata": {},
     "output_type": "display_data"
    },
    {
     "name": "stdout",
     "output_type": "stream",
     "text": [
      "torch.Size([40000, 1, 1, 31])\n",
      "torch.Size([10000, 1, 1, 31])\n"
     ]
    },
    {
     "name": "stderr",
     "output_type": "stream",
     "text": [
      "Epoch 0, global step 1928: 'val_loss' reached 3.06420 (best 3.06420), saving model to 'saved_models/classifier/model_bc4_do1/version_4/checkpoints/epoch=0-val_loss=3.06.ckpt' as top 1\n"
     ]
    },
    {
     "data": {
      "application/vnd.jupyter.widget-view+json": {
       "model_id": "c0c1812beebe4cf3b406d9b1e53de4fe",
       "version_major": 2,
       "version_minor": 0
      },
      "text/plain": [
       "Validation: |          | 0/? [00:00<?, ?it/s]"
      ]
     },
     "metadata": {},
     "output_type": "display_data"
    },
    {
     "name": "stdout",
     "output_type": "stream",
     "text": [
      "torch.Size([40000, 1, 1, 31])\n",
      "torch.Size([10000, 1, 1, 31])\n"
     ]
    },
    {
     "name": "stderr",
     "output_type": "stream",
     "text": [
      "Epoch 1, global step 3856: 'val_loss' reached 3.02947 (best 3.02947), saving model to 'saved_models/classifier/model_bc4_do1/version_4/checkpoints/epoch=1-val_loss=3.03.ckpt' as top 1\n"
     ]
    },
    {
     "data": {
      "application/vnd.jupyter.widget-view+json": {
       "model_id": "7191fe6df19645ccb526adf8d736263f",
       "version_major": 2,
       "version_minor": 0
      },
      "text/plain": [
       "Validation: |          | 0/? [00:00<?, ?it/s]"
      ]
     },
     "metadata": {},
     "output_type": "display_data"
    },
    {
     "name": "stdout",
     "output_type": "stream",
     "text": [
      "torch.Size([40000, 1, 1, 31])\n",
      "torch.Size([10000, 1, 1, 31])\n"
     ]
    },
    {
     "name": "stderr",
     "output_type": "stream",
     "text": [
      "Epoch 2, global step 5784: 'val_loss' reached 3.01251 (best 3.01251), saving model to 'saved_models/classifier/model_bc4_do1/version_4/checkpoints/epoch=2-val_loss=3.01.ckpt' as top 1\n"
     ]
    },
    {
     "data": {
      "application/vnd.jupyter.widget-view+json": {
       "model_id": "8f2dbd76c87f4fffa778e40070baa7ee",
       "version_major": 2,
       "version_minor": 0
      },
      "text/plain": [
       "Validation: |          | 0/? [00:00<?, ?it/s]"
      ]
     },
     "metadata": {},
     "output_type": "display_data"
    },
    {
     "name": "stdout",
     "output_type": "stream",
     "text": [
      "torch.Size([40000, 1, 1, 31])\n",
      "torch.Size([10000, 1, 1, 31])\n"
     ]
    },
    {
     "name": "stderr",
     "output_type": "stream",
     "text": [
      "Epoch 3, global step 7712: 'val_loss' was not in top 1\n"
     ]
    },
    {
     "data": {
      "application/vnd.jupyter.widget-view+json": {
       "model_id": "7426f811fd514473b121c2420650fb6a",
       "version_major": 2,
       "version_minor": 0
      },
      "text/plain": [
       "Validation: |          | 0/? [00:00<?, ?it/s]"
      ]
     },
     "metadata": {},
     "output_type": "display_data"
    },
    {
     "name": "stdout",
     "output_type": "stream",
     "text": [
      "torch.Size([40000, 1, 1, 31])\n",
      "torch.Size([10000, 1, 1, 31])\n"
     ]
    },
    {
     "name": "stderr",
     "output_type": "stream",
     "text": [
      "Epoch 4, global step 9640: 'val_loss' was not in top 1\n"
     ]
    },
    {
     "data": {
      "application/vnd.jupyter.widget-view+json": {
       "model_id": "85d7bc4d44a14cd09eeed04a4ac1c93d",
       "version_major": 2,
       "version_minor": 0
      },
      "text/plain": [
       "Validation: |          | 0/? [00:00<?, ?it/s]"
      ]
     },
     "metadata": {},
     "output_type": "display_data"
    },
    {
     "name": "stdout",
     "output_type": "stream",
     "text": [
      "torch.Size([40000, 1, 1, 31])\n",
      "torch.Size([10000, 1, 1, 31])\n"
     ]
    },
    {
     "name": "stderr",
     "output_type": "stream",
     "text": [
      "Epoch 5, global step 11568: 'val_loss' reached 2.99807 (best 2.99807), saving model to 'saved_models/classifier/model_bc4_do1/version_4/checkpoints/epoch=5-val_loss=3.00.ckpt' as top 1\n"
     ]
    },
    {
     "data": {
      "application/vnd.jupyter.widget-view+json": {
       "model_id": "5678b423ad95419295c0db2d2de1bb00",
       "version_major": 2,
       "version_minor": 0
      },
      "text/plain": [
       "Validation: |          | 0/? [00:00<?, ?it/s]"
      ]
     },
     "metadata": {},
     "output_type": "display_data"
    },
    {
     "name": "stdout",
     "output_type": "stream",
     "text": [
      "torch.Size([40000, 1, 1, 31])\n",
      "torch.Size([10000, 1, 1, 31])\n"
     ]
    },
    {
     "name": "stderr",
     "output_type": "stream",
     "text": [
      "Epoch 6, global step 13496: 'val_loss' reached 2.98174 (best 2.98174), saving model to 'saved_models/classifier/model_bc4_do1/version_4/checkpoints/epoch=6-val_loss=2.98.ckpt' as top 1\n"
     ]
    },
    {
     "data": {
      "application/vnd.jupyter.widget-view+json": {
       "model_id": "b37f8c0ac0a04677b36a671913a054dd",
       "version_major": 2,
       "version_minor": 0
      },
      "text/plain": [
       "Validation: |          | 0/? [00:00<?, ?it/s]"
      ]
     },
     "metadata": {},
     "output_type": "display_data"
    },
    {
     "name": "stdout",
     "output_type": "stream",
     "text": [
      "torch.Size([40000, 1, 1, 31])\n",
      "torch.Size([10000, 1, 1, 31])\n"
     ]
    },
    {
     "name": "stderr",
     "output_type": "stream",
     "text": [
      "Epoch 7, global step 15424: 'val_loss' reached 2.96190 (best 2.96190), saving model to 'saved_models/classifier/model_bc4_do1/version_4/checkpoints/epoch=7-val_loss=2.96.ckpt' as top 1\n"
     ]
    },
    {
     "data": {
      "application/vnd.jupyter.widget-view+json": {
       "model_id": "b2ac0397fc8e4ac3910c868be99a4bd2",
       "version_major": 2,
       "version_minor": 0
      },
      "text/plain": [
       "Validation: |          | 0/? [00:00<?, ?it/s]"
      ]
     },
     "metadata": {},
     "output_type": "display_data"
    },
    {
     "name": "stdout",
     "output_type": "stream",
     "text": [
      "torch.Size([40000, 1, 1, 31])\n",
      "torch.Size([10000, 1, 1, 31])\n"
     ]
    },
    {
     "name": "stderr",
     "output_type": "stream",
     "text": [
      "Epoch 8, global step 17352: 'val_loss' reached 2.95213 (best 2.95213), saving model to 'saved_models/classifier/model_bc4_do1/version_4/checkpoints/epoch=8-val_loss=2.95.ckpt' as top 1\n"
     ]
    },
    {
     "data": {
      "application/vnd.jupyter.widget-view+json": {
       "model_id": "83ce344416f14dcca27a5e6b1543100c",
       "version_major": 2,
       "version_minor": 0
      },
      "text/plain": [
       "Validation: |          | 0/? [00:00<?, ?it/s]"
      ]
     },
     "metadata": {},
     "output_type": "display_data"
    },
    {
     "name": "stdout",
     "output_type": "stream",
     "text": [
      "torch.Size([40000, 1, 1, 31])\n",
      "torch.Size([10000, 1, 1, 31])\n"
     ]
    },
    {
     "name": "stderr",
     "output_type": "stream",
     "text": [
      "Epoch 9, global step 19280: 'val_loss' reached 2.94349 (best 2.94349), saving model to 'saved_models/classifier/model_bc4_do1/version_4/checkpoints/epoch=9-val_loss=2.94.ckpt' as top 1\n"
     ]
    },
    {
     "data": {
      "application/vnd.jupyter.widget-view+json": {
       "model_id": "263962448e804bff81e5f311f6a52cbd",
       "version_major": 2,
       "version_minor": 0
      },
      "text/plain": [
       "Validation: |          | 0/? [00:00<?, ?it/s]"
      ]
     },
     "metadata": {},
     "output_type": "display_data"
    },
    {
     "name": "stdout",
     "output_type": "stream",
     "text": [
      "torch.Size([40000, 1, 1, 31])\n",
      "torch.Size([10000, 1, 1, 31])\n"
     ]
    },
    {
     "name": "stderr",
     "output_type": "stream",
     "text": [
      "Epoch 10, global step 21208: 'val_loss' reached 2.93166 (best 2.93166), saving model to 'saved_models/classifier/model_bc4_do1/version_4/checkpoints/epoch=10-val_loss=2.93.ckpt' as top 1\n"
     ]
    },
    {
     "data": {
      "application/vnd.jupyter.widget-view+json": {
       "model_id": "168f4574849e46b99075f1770ba2677f",
       "version_major": 2,
       "version_minor": 0
      },
      "text/plain": [
       "Validation: |          | 0/? [00:00<?, ?it/s]"
      ]
     },
     "metadata": {},
     "output_type": "display_data"
    },
    {
     "name": "stdout",
     "output_type": "stream",
     "text": [
      "torch.Size([40000, 1, 1, 31])\n",
      "torch.Size([10000, 1, 1, 31])\n"
     ]
    },
    {
     "name": "stderr",
     "output_type": "stream",
     "text": [
      "Epoch 11, global step 23136: 'val_loss' reached 2.91818 (best 2.91818), saving model to 'saved_models/classifier/model_bc4_do1/version_4/checkpoints/epoch=11-val_loss=2.92.ckpt' as top 1\n"
     ]
    },
    {
     "data": {
      "application/vnd.jupyter.widget-view+json": {
       "model_id": "4706d186c8e44ef09f79638ff037205d",
       "version_major": 2,
       "version_minor": 0
      },
      "text/plain": [
       "Validation: |          | 0/? [00:00<?, ?it/s]"
      ]
     },
     "metadata": {},
     "output_type": "display_data"
    },
    {
     "name": "stdout",
     "output_type": "stream",
     "text": [
      "torch.Size([40000, 1, 1, 31])\n",
      "torch.Size([10000, 1, 1, 31])\n"
     ]
    },
    {
     "name": "stderr",
     "output_type": "stream",
     "text": [
      "Epoch 12, global step 25064: 'val_loss' reached 2.91242 (best 2.91242), saving model to 'saved_models/classifier/model_bc4_do1/version_4/checkpoints/epoch=12-val_loss=2.91.ckpt' as top 1\n"
     ]
    },
    {
     "data": {
      "application/vnd.jupyter.widget-view+json": {
       "model_id": "30453580dbc94d1abb0fd47afdaaa108",
       "version_major": 2,
       "version_minor": 0
      },
      "text/plain": [
       "Validation: |          | 0/? [00:00<?, ?it/s]"
      ]
     },
     "metadata": {},
     "output_type": "display_data"
    },
    {
     "name": "stdout",
     "output_type": "stream",
     "text": [
      "torch.Size([40000, 1, 1, 31])\n",
      "torch.Size([10000, 1, 1, 31])\n"
     ]
    },
    {
     "name": "stderr",
     "output_type": "stream",
     "text": [
      "Epoch 13, global step 26992: 'val_loss' reached 2.90320 (best 2.90320), saving model to 'saved_models/classifier/model_bc4_do1/version_4/checkpoints/epoch=13-val_loss=2.90.ckpt' as top 1\n"
     ]
    },
    {
     "data": {
      "application/vnd.jupyter.widget-view+json": {
       "model_id": "1edb8b7cd0e14bbd94eab5560768209b",
       "version_major": 2,
       "version_minor": 0
      },
      "text/plain": [
       "Validation: |          | 0/? [00:00<?, ?it/s]"
      ]
     },
     "metadata": {},
     "output_type": "display_data"
    },
    {
     "name": "stdout",
     "output_type": "stream",
     "text": [
      "torch.Size([40000, 1, 1, 31])\n",
      "torch.Size([10000, 1, 1, 31])\n"
     ]
    },
    {
     "name": "stderr",
     "output_type": "stream",
     "text": [
      "Epoch 14, global step 28920: 'val_loss' reached 2.89303 (best 2.89303), saving model to 'saved_models/classifier/model_bc4_do1/version_4/checkpoints/epoch=14-val_loss=2.89.ckpt' as top 1\n"
     ]
    },
    {
     "data": {
      "application/vnd.jupyter.widget-view+json": {
       "model_id": "a783597bfc89449a9793182452318758",
       "version_major": 2,
       "version_minor": 0
      },
      "text/plain": [
       "Validation: |          | 0/? [00:00<?, ?it/s]"
      ]
     },
     "metadata": {},
     "output_type": "display_data"
    },
    {
     "name": "stdout",
     "output_type": "stream",
     "text": [
      "torch.Size([40000, 1, 1, 31])\n",
      "torch.Size([10000, 1, 1, 31])\n"
     ]
    },
    {
     "name": "stderr",
     "output_type": "stream",
     "text": [
      "Epoch 15, global step 30848: 'val_loss' reached 2.88076 (best 2.88076), saving model to 'saved_models/classifier/model_bc4_do1/version_4/checkpoints/epoch=15-val_loss=2.88.ckpt' as top 1\n"
     ]
    },
    {
     "data": {
      "application/vnd.jupyter.widget-view+json": {
       "model_id": "e908b50b0b774924872dd1340a87efd0",
       "version_major": 2,
       "version_minor": 0
      },
      "text/plain": [
       "Validation: |          | 0/? [00:00<?, ?it/s]"
      ]
     },
     "metadata": {},
     "output_type": "display_data"
    },
    {
     "name": "stdout",
     "output_type": "stream",
     "text": [
      "torch.Size([40000, 1, 1, 31])\n",
      "torch.Size([10000, 1, 1, 31])\n"
     ]
    },
    {
     "name": "stderr",
     "output_type": "stream",
     "text": [
      "Epoch 16, global step 32776: 'val_loss' reached 2.87689 (best 2.87689), saving model to 'saved_models/classifier/model_bc4_do1/version_4/checkpoints/epoch=16-val_loss=2.88.ckpt' as top 1\n"
     ]
    },
    {
     "data": {
      "application/vnd.jupyter.widget-view+json": {
       "model_id": "956da6d4d67b4e1c9b70ccae3e2d7aa5",
       "version_major": 2,
       "version_minor": 0
      },
      "text/plain": [
       "Validation: |          | 0/? [00:00<?, ?it/s]"
      ]
     },
     "metadata": {},
     "output_type": "display_data"
    },
    {
     "name": "stdout",
     "output_type": "stream",
     "text": [
      "torch.Size([40000, 1, 1, 31])\n",
      "torch.Size([10000, 1, 1, 31])\n"
     ]
    },
    {
     "name": "stderr",
     "output_type": "stream",
     "text": [
      "Epoch 17, global step 34704: 'val_loss' reached 2.86629 (best 2.86629), saving model to 'saved_models/classifier/model_bc4_do1/version_4/checkpoints/epoch=17-val_loss=2.87.ckpt' as top 1\n"
     ]
    },
    {
     "data": {
      "application/vnd.jupyter.widget-view+json": {
       "model_id": "ec37b2b30db9423fa8e2f334a448dab8",
       "version_major": 2,
       "version_minor": 0
      },
      "text/plain": [
       "Validation: |          | 0/? [00:00<?, ?it/s]"
      ]
     },
     "metadata": {},
     "output_type": "display_data"
    },
    {
     "name": "stdout",
     "output_type": "stream",
     "text": [
      "torch.Size([40000, 1, 1, 31])\n",
      "torch.Size([10000, 1, 1, 31])\n"
     ]
    },
    {
     "name": "stderr",
     "output_type": "stream",
     "text": [
      "Epoch 18, global step 36632: 'val_loss' reached 2.86028 (best 2.86028), saving model to 'saved_models/classifier/model_bc4_do1/version_4/checkpoints/epoch=18-val_loss=2.86.ckpt' as top 1\n"
     ]
    },
    {
     "data": {
      "application/vnd.jupyter.widget-view+json": {
       "model_id": "8f6098e04cd84afdb289fa779f902ae5",
       "version_major": 2,
       "version_minor": 0
      },
      "text/plain": [
       "Validation: |          | 0/? [00:00<?, ?it/s]"
      ]
     },
     "metadata": {},
     "output_type": "display_data"
    },
    {
     "name": "stdout",
     "output_type": "stream",
     "text": [
      "torch.Size([40000, 1, 1, 31])\n",
      "torch.Size([10000, 1, 1, 31])\n"
     ]
    },
    {
     "name": "stderr",
     "output_type": "stream",
     "text": [
      "Epoch 19, global step 38560: 'val_loss' reached 2.84971 (best 2.84971), saving model to 'saved_models/classifier/model_bc4_do1/version_4/checkpoints/epoch=19-val_loss=2.85.ckpt' as top 1\n"
     ]
    },
    {
     "data": {
      "application/vnd.jupyter.widget-view+json": {
       "model_id": "f69c902f1ff04bf184c75858d17c8548",
       "version_major": 2,
       "version_minor": 0
      },
      "text/plain": [
       "Validation: |          | 0/? [00:00<?, ?it/s]"
      ]
     },
     "metadata": {},
     "output_type": "display_data"
    },
    {
     "name": "stdout",
     "output_type": "stream",
     "text": [
      "torch.Size([40000, 1, 1, 31])\n",
      "torch.Size([10000, 1, 1, 31])\n"
     ]
    },
    {
     "name": "stderr",
     "output_type": "stream",
     "text": [
      "Epoch 20, global step 40488: 'val_loss' reached 2.84537 (best 2.84537), saving model to 'saved_models/classifier/model_bc4_do1/version_4/checkpoints/epoch=20-val_loss=2.85.ckpt' as top 1\n"
     ]
    },
    {
     "data": {
      "application/vnd.jupyter.widget-view+json": {
       "model_id": "934678dd20d44ac0a0cc0a66a6349ba6",
       "version_major": 2,
       "version_minor": 0
      },
      "text/plain": [
       "Validation: |          | 0/? [00:00<?, ?it/s]"
      ]
     },
     "metadata": {},
     "output_type": "display_data"
    },
    {
     "name": "stdout",
     "output_type": "stream",
     "text": [
      "torch.Size([40000, 1, 1, 31])\n",
      "torch.Size([10000, 1, 1, 31])\n"
     ]
    },
    {
     "name": "stderr",
     "output_type": "stream",
     "text": [
      "Epoch 21, global step 42416: 'val_loss' reached 2.83868 (best 2.83868), saving model to 'saved_models/classifier/model_bc4_do1/version_4/checkpoints/epoch=21-val_loss=2.84.ckpt' as top 1\n"
     ]
    },
    {
     "data": {
      "application/vnd.jupyter.widget-view+json": {
       "model_id": "0063f87691c74ff59f1c4056013e77d2",
       "version_major": 2,
       "version_minor": 0
      },
      "text/plain": [
       "Validation: |          | 0/? [00:00<?, ?it/s]"
      ]
     },
     "metadata": {},
     "output_type": "display_data"
    },
    {
     "name": "stdout",
     "output_type": "stream",
     "text": [
      "torch.Size([40000, 1, 1, 31])\n",
      "torch.Size([10000, 1, 1, 31])\n"
     ]
    },
    {
     "name": "stderr",
     "output_type": "stream",
     "text": [
      "Epoch 22, global step 44344: 'val_loss' reached 2.83697 (best 2.83697), saving model to 'saved_models/classifier/model_bc4_do1/version_4/checkpoints/epoch=22-val_loss=2.84.ckpt' as top 1\n"
     ]
    },
    {
     "data": {
      "application/vnd.jupyter.widget-view+json": {
       "model_id": "aad2981c71ff489884a480595ee0c56e",
       "version_major": 2,
       "version_minor": 0
      },
      "text/plain": [
       "Validation: |          | 0/? [00:00<?, ?it/s]"
      ]
     },
     "metadata": {},
     "output_type": "display_data"
    },
    {
     "name": "stdout",
     "output_type": "stream",
     "text": [
      "torch.Size([40000, 1, 1, 31])\n",
      "torch.Size([10000, 1, 1, 31])\n"
     ]
    },
    {
     "name": "stderr",
     "output_type": "stream",
     "text": [
      "Epoch 23, global step 46272: 'val_loss' reached 2.83037 (best 2.83037), saving model to 'saved_models/classifier/model_bc4_do1/version_4/checkpoints/epoch=23-val_loss=2.83.ckpt' as top 1\n"
     ]
    },
    {
     "data": {
      "application/vnd.jupyter.widget-view+json": {
       "model_id": "da0a94b93154486b90ff6294e7c8169f",
       "version_major": 2,
       "version_minor": 0
      },
      "text/plain": [
       "Validation: |          | 0/? [00:00<?, ?it/s]"
      ]
     },
     "metadata": {},
     "output_type": "display_data"
    },
    {
     "name": "stdout",
     "output_type": "stream",
     "text": [
      "torch.Size([40000, 1, 1, 31])\n",
      "torch.Size([10000, 1, 1, 31])\n"
     ]
    },
    {
     "name": "stderr",
     "output_type": "stream",
     "text": [
      "Epoch 24, global step 48200: 'val_loss' reached 2.82810 (best 2.82810), saving model to 'saved_models/classifier/model_bc4_do1/version_4/checkpoints/epoch=24-val_loss=2.83.ckpt' as top 1\n"
     ]
    },
    {
     "data": {
      "application/vnd.jupyter.widget-view+json": {
       "model_id": "82dbba11bab1408cbae42ca58b23889c",
       "version_major": 2,
       "version_minor": 0
      },
      "text/plain": [
       "Validation: |          | 0/? [00:00<?, ?it/s]"
      ]
     },
     "metadata": {},
     "output_type": "display_data"
    },
    {
     "name": "stdout",
     "output_type": "stream",
     "text": [
      "torch.Size([40000, 1, 1, 31])\n",
      "torch.Size([10000, 1, 1, 31])\n"
     ]
    },
    {
     "name": "stderr",
     "output_type": "stream",
     "text": [
      "Epoch 25, global step 50128: 'val_loss' reached 2.82550 (best 2.82550), saving model to 'saved_models/classifier/model_bc4_do1/version_4/checkpoints/epoch=25-val_loss=2.83.ckpt' as top 1\n"
     ]
    },
    {
     "data": {
      "application/vnd.jupyter.widget-view+json": {
       "model_id": "5ba6b0b7cafe4cb89e39400696ba1243",
       "version_major": 2,
       "version_minor": 0
      },
      "text/plain": [
       "Validation: |          | 0/? [00:00<?, ?it/s]"
      ]
     },
     "metadata": {},
     "output_type": "display_data"
    },
    {
     "name": "stdout",
     "output_type": "stream",
     "text": [
      "torch.Size([40000, 1, 1, 31])\n",
      "torch.Size([10000, 1, 1, 31])\n"
     ]
    },
    {
     "name": "stderr",
     "output_type": "stream",
     "text": [
      "Epoch 26, global step 52056: 'val_loss' reached 2.82347 (best 2.82347), saving model to 'saved_models/classifier/model_bc4_do1/version_4/checkpoints/epoch=26-val_loss=2.82.ckpt' as top 1\n"
     ]
    },
    {
     "data": {
      "application/vnd.jupyter.widget-view+json": {
       "model_id": "056ab023708540219bf87482b963830b",
       "version_major": 2,
       "version_minor": 0
      },
      "text/plain": [
       "Validation: |          | 0/? [00:00<?, ?it/s]"
      ]
     },
     "metadata": {},
     "output_type": "display_data"
    },
    {
     "name": "stdout",
     "output_type": "stream",
     "text": [
      "torch.Size([40000, 1, 1, 31])\n",
      "torch.Size([10000, 1, 1, 31])\n"
     ]
    },
    {
     "name": "stderr",
     "output_type": "stream",
     "text": [
      "Epoch 27, global step 53984: 'val_loss' reached 2.81743 (best 2.81743), saving model to 'saved_models/classifier/model_bc4_do1/version_4/checkpoints/epoch=27-val_loss=2.82.ckpt' as top 1\n"
     ]
    },
    {
     "data": {
      "application/vnd.jupyter.widget-view+json": {
       "model_id": "10b4683d77fd4d40bc8104a227c8dd1a",
       "version_major": 2,
       "version_minor": 0
      },
      "text/plain": [
       "Validation: |          | 0/? [00:00<?, ?it/s]"
      ]
     },
     "metadata": {},
     "output_type": "display_data"
    },
    {
     "name": "stdout",
     "output_type": "stream",
     "text": [
      "torch.Size([40000, 1, 1, 31])\n",
      "torch.Size([10000, 1, 1, 31])\n"
     ]
    },
    {
     "name": "stderr",
     "output_type": "stream",
     "text": [
      "Epoch 28, global step 55912: 'val_loss' was not in top 1\n"
     ]
    },
    {
     "data": {
      "application/vnd.jupyter.widget-view+json": {
       "model_id": "63916752a0194574a2bed2b1fa240d1a",
       "version_major": 2,
       "version_minor": 0
      },
      "text/plain": [
       "Validation: |          | 0/? [00:00<?, ?it/s]"
      ]
     },
     "metadata": {},
     "output_type": "display_data"
    },
    {
     "name": "stdout",
     "output_type": "stream",
     "text": [
      "torch.Size([40000, 1, 1, 31])\n",
      "torch.Size([10000, 1, 1, 31])\n"
     ]
    },
    {
     "name": "stderr",
     "output_type": "stream",
     "text": [
      "Epoch 29, global step 57840: 'val_loss' reached 2.81434 (best 2.81434), saving model to 'saved_models/classifier/model_bc4_do1/version_4/checkpoints/epoch=29-val_loss=2.81.ckpt' as top 1\n"
     ]
    },
    {
     "data": {
      "application/vnd.jupyter.widget-view+json": {
       "model_id": "178ab9b17d754687a70c4c121eeb24e9",
       "version_major": 2,
       "version_minor": 0
      },
      "text/plain": [
       "Validation: |          | 0/? [00:00<?, ?it/s]"
      ]
     },
     "metadata": {},
     "output_type": "display_data"
    },
    {
     "name": "stdout",
     "output_type": "stream",
     "text": [
      "torch.Size([40000, 1, 1, 31])\n",
      "torch.Size([10000, 1, 1, 31])\n"
     ]
    },
    {
     "name": "stderr",
     "output_type": "stream",
     "text": [
      "Epoch 30, global step 59768: 'val_loss' reached 2.81389 (best 2.81389), saving model to 'saved_models/classifier/model_bc4_do1/version_4/checkpoints/epoch=30-val_loss=2.81.ckpt' as top 1\n"
     ]
    },
    {
     "data": {
      "application/vnd.jupyter.widget-view+json": {
       "model_id": "67fe3b82519547e9b0589b41650504ae",
       "version_major": 2,
       "version_minor": 0
      },
      "text/plain": [
       "Validation: |          | 0/? [00:00<?, ?it/s]"
      ]
     },
     "metadata": {},
     "output_type": "display_data"
    },
    {
     "name": "stdout",
     "output_type": "stream",
     "text": [
      "torch.Size([40000, 1, 1, 31])\n",
      "torch.Size([10000, 1, 1, 31])\n"
     ]
    },
    {
     "name": "stderr",
     "output_type": "stream",
     "text": [
      "Epoch 31, global step 61696: 'val_loss' reached 2.81170 (best 2.81170), saving model to 'saved_models/classifier/model_bc4_do1/version_4/checkpoints/epoch=31-val_loss=2.81.ckpt' as top 1\n"
     ]
    },
    {
     "data": {
      "application/vnd.jupyter.widget-view+json": {
       "model_id": "fb19adc586b14b889b5fe91337f1b3f4",
       "version_major": 2,
       "version_minor": 0
      },
      "text/plain": [
       "Validation: |          | 0/? [00:00<?, ?it/s]"
      ]
     },
     "metadata": {},
     "output_type": "display_data"
    },
    {
     "name": "stdout",
     "output_type": "stream",
     "text": [
      "torch.Size([40000, 1, 1, 31])\n",
      "torch.Size([10000, 1, 1, 31])\n"
     ]
    },
    {
     "name": "stderr",
     "output_type": "stream",
     "text": [
      "Epoch 32, global step 63624: 'val_loss' reached 2.80982 (best 2.80982), saving model to 'saved_models/classifier/model_bc4_do1/version_4/checkpoints/epoch=32-val_loss=2.81.ckpt' as top 1\n"
     ]
    },
    {
     "data": {
      "application/vnd.jupyter.widget-view+json": {
       "model_id": "cc1944a3bc4646ee8b2abc8bd2213d6c",
       "version_major": 2,
       "version_minor": 0
      },
      "text/plain": [
       "Validation: |          | 0/? [00:00<?, ?it/s]"
      ]
     },
     "metadata": {},
     "output_type": "display_data"
    },
    {
     "name": "stdout",
     "output_type": "stream",
     "text": [
      "torch.Size([40000, 1, 1, 31])\n",
      "torch.Size([10000, 1, 1, 31])\n"
     ]
    },
    {
     "name": "stderr",
     "output_type": "stream",
     "text": [
      "Epoch 33, global step 65552: 'val_loss' reached 2.80957 (best 2.80957), saving model to 'saved_models/classifier/model_bc4_do1/version_4/checkpoints/epoch=33-val_loss=2.81.ckpt' as top 1\n"
     ]
    },
    {
     "data": {
      "application/vnd.jupyter.widget-view+json": {
       "model_id": "046451dcb13741b99e41048f8c110a3e",
       "version_major": 2,
       "version_minor": 0
      },
      "text/plain": [
       "Validation: |          | 0/? [00:00<?, ?it/s]"
      ]
     },
     "metadata": {},
     "output_type": "display_data"
    },
    {
     "name": "stdout",
     "output_type": "stream",
     "text": [
      "torch.Size([40000, 1, 1, 31])\n",
      "torch.Size([10000, 1, 1, 31])\n"
     ]
    },
    {
     "name": "stderr",
     "output_type": "stream",
     "text": [
      "Epoch 34, global step 67480: 'val_loss' reached 2.80602 (best 2.80602), saving model to 'saved_models/classifier/model_bc4_do1/version_4/checkpoints/epoch=34-val_loss=2.81.ckpt' as top 1\n"
     ]
    },
    {
     "data": {
      "application/vnd.jupyter.widget-view+json": {
       "model_id": "b57fe006500f4181b846a745e1d94e04",
       "version_major": 2,
       "version_minor": 0
      },
      "text/plain": [
       "Validation: |          | 0/? [00:00<?, ?it/s]"
      ]
     },
     "metadata": {},
     "output_type": "display_data"
    },
    {
     "name": "stdout",
     "output_type": "stream",
     "text": [
      "torch.Size([40000, 1, 1, 31])\n",
      "torch.Size([10000, 1, 1, 31])\n"
     ]
    },
    {
     "name": "stderr",
     "output_type": "stream",
     "text": [
      "Epoch 35, global step 69408: 'val_loss' was not in top 1\n"
     ]
    },
    {
     "data": {
      "application/vnd.jupyter.widget-view+json": {
       "model_id": "3048955d55924c2981a3c0b37e764f74",
       "version_major": 2,
       "version_minor": 0
      },
      "text/plain": [
       "Validation: |          | 0/? [00:00<?, ?it/s]"
      ]
     },
     "metadata": {},
     "output_type": "display_data"
    },
    {
     "name": "stdout",
     "output_type": "stream",
     "text": [
      "torch.Size([40000, 1, 1, 31])\n",
      "torch.Size([10000, 1, 1, 31])\n"
     ]
    },
    {
     "name": "stderr",
     "output_type": "stream",
     "text": [
      "Epoch 36, global step 71336: 'val_loss' was not in top 1\n"
     ]
    },
    {
     "data": {
      "application/vnd.jupyter.widget-view+json": {
       "model_id": "6d792617779f44fea3e899766ebe2db1",
       "version_major": 2,
       "version_minor": 0
      },
      "text/plain": [
       "Validation: |          | 0/? [00:00<?, ?it/s]"
      ]
     },
     "metadata": {},
     "output_type": "display_data"
    },
    {
     "name": "stdout",
     "output_type": "stream",
     "text": [
      "torch.Size([40000, 1, 1, 31])\n",
      "torch.Size([10000, 1, 1, 31])\n"
     ]
    },
    {
     "name": "stderr",
     "output_type": "stream",
     "text": [
      "Epoch 37, global step 73264: 'val_loss' reached 2.80548 (best 2.80548), saving model to 'saved_models/classifier/model_bc4_do1/version_4/checkpoints/epoch=37-val_loss=2.81.ckpt' as top 1\n"
     ]
    },
    {
     "data": {
      "application/vnd.jupyter.widget-view+json": {
       "model_id": "01ff2ad26c7b43b3957702a2e415b8b5",
       "version_major": 2,
       "version_minor": 0
      },
      "text/plain": [
       "Validation: |          | 0/? [00:00<?, ?it/s]"
      ]
     },
     "metadata": {},
     "output_type": "display_data"
    },
    {
     "name": "stdout",
     "output_type": "stream",
     "text": [
      "torch.Size([40000, 1, 1, 31])\n",
      "torch.Size([10000, 1, 1, 31])\n"
     ]
    },
    {
     "name": "stderr",
     "output_type": "stream",
     "text": [
      "Epoch 38, global step 75192: 'val_loss' reached 2.80455 (best 2.80455), saving model to 'saved_models/classifier/model_bc4_do1/version_4/checkpoints/epoch=38-val_loss=2.80.ckpt' as top 1\n"
     ]
    },
    {
     "data": {
      "application/vnd.jupyter.widget-view+json": {
       "model_id": "95cf2896e0434333afe96b866d90b2f7",
       "version_major": 2,
       "version_minor": 0
      },
      "text/plain": [
       "Validation: |          | 0/? [00:00<?, ?it/s]"
      ]
     },
     "metadata": {},
     "output_type": "display_data"
    },
    {
     "name": "stdout",
     "output_type": "stream",
     "text": [
      "torch.Size([40000, 1, 1, 31])\n",
      "torch.Size([10000, 1, 1, 31])\n"
     ]
    },
    {
     "name": "stderr",
     "output_type": "stream",
     "text": [
      "Epoch 39, global step 77120: 'val_loss' reached 2.80425 (best 2.80425), saving model to 'saved_models/classifier/model_bc4_do1/version_4/checkpoints/epoch=39-val_loss=2.80.ckpt' as top 1\n"
     ]
    },
    {
     "data": {
      "application/vnd.jupyter.widget-view+json": {
       "model_id": "91caa2b4cf3d4dbdba6938f05355467d",
       "version_major": 2,
       "version_minor": 0
      },
      "text/plain": [
       "Validation: |          | 0/? [00:00<?, ?it/s]"
      ]
     },
     "metadata": {},
     "output_type": "display_data"
    },
    {
     "name": "stdout",
     "output_type": "stream",
     "text": [
      "torch.Size([40000, 1, 1, 31])\n",
      "torch.Size([10000, 1, 1, 31])\n"
     ]
    },
    {
     "name": "stderr",
     "output_type": "stream",
     "text": [
      "Epoch 40, global step 79048: 'val_loss' reached 2.80362 (best 2.80362), saving model to 'saved_models/classifier/model_bc4_do1/version_4/checkpoints/epoch=40-val_loss=2.80.ckpt' as top 1\n"
     ]
    },
    {
     "data": {
      "application/vnd.jupyter.widget-view+json": {
       "model_id": "137a894869d44f5aa40d541cae1e8e90",
       "version_major": 2,
       "version_minor": 0
      },
      "text/plain": [
       "Validation: |          | 0/? [00:00<?, ?it/s]"
      ]
     },
     "metadata": {},
     "output_type": "display_data"
    },
    {
     "name": "stdout",
     "output_type": "stream",
     "text": [
      "torch.Size([40000, 1, 1, 31])\n",
      "torch.Size([10000, 1, 1, 31])\n"
     ]
    },
    {
     "name": "stderr",
     "output_type": "stream",
     "text": [
      "Epoch 41, global step 80976: 'val_loss' reached 2.80354 (best 2.80354), saving model to 'saved_models/classifier/model_bc4_do1/version_4/checkpoints/epoch=41-val_loss=2.80.ckpt' as top 1\n"
     ]
    },
    {
     "data": {
      "application/vnd.jupyter.widget-view+json": {
       "model_id": "d9691f377fca45dbad11b68ee698c533",
       "version_major": 2,
       "version_minor": 0
      },
      "text/plain": [
       "Validation: |          | 0/? [00:00<?, ?it/s]"
      ]
     },
     "metadata": {},
     "output_type": "display_data"
    },
    {
     "name": "stdout",
     "output_type": "stream",
     "text": [
      "torch.Size([40000, 1, 1, 31])\n",
      "torch.Size([10000, 1, 1, 31])\n"
     ]
    },
    {
     "name": "stderr",
     "output_type": "stream",
     "text": [
      "Epoch 42, global step 82904: 'val_loss' reached 2.80146 (best 2.80146), saving model to 'saved_models/classifier/model_bc4_do1/version_4/checkpoints/epoch=42-val_loss=2.80.ckpt' as top 1\n"
     ]
    },
    {
     "data": {
      "application/vnd.jupyter.widget-view+json": {
       "model_id": "6960a17675294b0e8279208de3cc85a9",
       "version_major": 2,
       "version_minor": 0
      },
      "text/plain": [
       "Validation: |          | 0/? [00:00<?, ?it/s]"
      ]
     },
     "metadata": {},
     "output_type": "display_data"
    },
    {
     "name": "stdout",
     "output_type": "stream",
     "text": [
      "torch.Size([40000, 1, 1, 31])\n",
      "torch.Size([10000, 1, 1, 31])\n"
     ]
    },
    {
     "name": "stderr",
     "output_type": "stream",
     "text": [
      "Epoch 43, global step 84832: 'val_loss' reached 2.79918 (best 2.79918), saving model to 'saved_models/classifier/model_bc4_do1/version_4/checkpoints/epoch=43-val_loss=2.80.ckpt' as top 1\n"
     ]
    },
    {
     "data": {
      "application/vnd.jupyter.widget-view+json": {
       "model_id": "914c0badf9e94b38bb31609b23641713",
       "version_major": 2,
       "version_minor": 0
      },
      "text/plain": [
       "Validation: |          | 0/? [00:00<?, ?it/s]"
      ]
     },
     "metadata": {},
     "output_type": "display_data"
    },
    {
     "name": "stdout",
     "output_type": "stream",
     "text": [
      "torch.Size([40000, 1, 1, 31])\n",
      "torch.Size([10000, 1, 1, 31])\n"
     ]
    },
    {
     "name": "stderr",
     "output_type": "stream",
     "text": [
      "Epoch 44, global step 86760: 'val_loss' was not in top 1\n"
     ]
    },
    {
     "data": {
      "application/vnd.jupyter.widget-view+json": {
       "model_id": "75e1e3d49368416fbbeacebd7ea695e5",
       "version_major": 2,
       "version_minor": 0
      },
      "text/plain": [
       "Validation: |          | 0/? [00:00<?, ?it/s]"
      ]
     },
     "metadata": {},
     "output_type": "display_data"
    },
    {
     "name": "stdout",
     "output_type": "stream",
     "text": [
      "torch.Size([40000, 1, 1, 31])\n",
      "torch.Size([10000, 1, 1, 31])\n"
     ]
    },
    {
     "name": "stderr",
     "output_type": "stream",
     "text": [
      "Epoch 45, global step 88688: 'val_loss' reached 2.79876 (best 2.79876), saving model to 'saved_models/classifier/model_bc4_do1/version_4/checkpoints/epoch=45-val_loss=2.80.ckpt' as top 1\n"
     ]
    },
    {
     "data": {
      "application/vnd.jupyter.widget-view+json": {
       "model_id": "7b6d7a7bd3b3485eb9e8f8a3048a0075",
       "version_major": 2,
       "version_minor": 0
      },
      "text/plain": [
       "Validation: |          | 0/? [00:00<?, ?it/s]"
      ]
     },
     "metadata": {},
     "output_type": "display_data"
    },
    {
     "name": "stdout",
     "output_type": "stream",
     "text": [
      "torch.Size([40000, 1, 1, 31])\n",
      "torch.Size([10000, 1, 1, 31])\n"
     ]
    },
    {
     "name": "stderr",
     "output_type": "stream",
     "text": [
      "Epoch 46, global step 90616: 'val_loss' reached 2.79822 (best 2.79822), saving model to 'saved_models/classifier/model_bc4_do1/version_4/checkpoints/epoch=46-val_loss=2.80.ckpt' as top 1\n"
     ]
    },
    {
     "data": {
      "application/vnd.jupyter.widget-view+json": {
       "model_id": "ce7c160df6bc46488ebf791b8748c1cd",
       "version_major": 2,
       "version_minor": 0
      },
      "text/plain": [
       "Validation: |          | 0/? [00:00<?, ?it/s]"
      ]
     },
     "metadata": {},
     "output_type": "display_data"
    },
    {
     "name": "stdout",
     "output_type": "stream",
     "text": [
      "torch.Size([40000, 1, 1, 31])\n",
      "torch.Size([10000, 1, 1, 31])\n"
     ]
    },
    {
     "name": "stderr",
     "output_type": "stream",
     "text": [
      "Epoch 47, global step 92544: 'val_loss' reached 2.79737 (best 2.79737), saving model to 'saved_models/classifier/model_bc4_do1/version_4/checkpoints/epoch=47-val_loss=2.80.ckpt' as top 1\n"
     ]
    },
    {
     "data": {
      "application/vnd.jupyter.widget-view+json": {
       "model_id": "6f8120b0304a4236a20d266b59628aaf",
       "version_major": 2,
       "version_minor": 0
      },
      "text/plain": [
       "Validation: |          | 0/? [00:00<?, ?it/s]"
      ]
     },
     "metadata": {},
     "output_type": "display_data"
    },
    {
     "name": "stdout",
     "output_type": "stream",
     "text": [
      "torch.Size([40000, 1, 1, 31])\n",
      "torch.Size([10000, 1, 1, 31])\n"
     ]
    },
    {
     "name": "stderr",
     "output_type": "stream",
     "text": [
      "Epoch 48, global step 94472: 'val_loss' was not in top 1\n"
     ]
    },
    {
     "data": {
      "application/vnd.jupyter.widget-view+json": {
       "model_id": "a7cbf14fd3134f098538367274d71d4d",
       "version_major": 2,
       "version_minor": 0
      },
      "text/plain": [
       "Validation: |          | 0/? [00:00<?, ?it/s]"
      ]
     },
     "metadata": {},
     "output_type": "display_data"
    },
    {
     "name": "stdout",
     "output_type": "stream",
     "text": [
      "torch.Size([40000, 1, 1, 31])\n",
      "torch.Size([10000, 1, 1, 31])\n"
     ]
    },
    {
     "name": "stderr",
     "output_type": "stream",
     "text": [
      "Epoch 49, global step 96400: 'val_loss' reached 2.79654 (best 2.79654), saving model to 'saved_models/classifier/model_bc4_do1/version_4/checkpoints/epoch=49-val_loss=2.80.ckpt' as top 1\n"
     ]
    },
    {
     "data": {
      "application/vnd.jupyter.widget-view+json": {
       "model_id": "723adbc582e1456180081ef4023ff5c4",
       "version_major": 2,
       "version_minor": 0
      },
      "text/plain": [
       "Validation: |          | 0/? [00:00<?, ?it/s]"
      ]
     },
     "metadata": {},
     "output_type": "display_data"
    },
    {
     "name": "stdout",
     "output_type": "stream",
     "text": [
      "torch.Size([40000, 1, 1, 31])\n",
      "torch.Size([10000, 1, 1, 31])\n"
     ]
    },
    {
     "name": "stderr",
     "output_type": "stream",
     "text": [
      "Epoch 50, global step 98328: 'val_loss' reached 2.79581 (best 2.79581), saving model to 'saved_models/classifier/model_bc4_do1/version_4/checkpoints/epoch=50-val_loss=2.80.ckpt' as top 1\n"
     ]
    },
    {
     "data": {
      "application/vnd.jupyter.widget-view+json": {
       "model_id": "9d278a4e5c54433a9e1698a94d93b111",
       "version_major": 2,
       "version_minor": 0
      },
      "text/plain": [
       "Validation: |          | 0/? [00:00<?, ?it/s]"
      ]
     },
     "metadata": {},
     "output_type": "display_data"
    },
    {
     "name": "stdout",
     "output_type": "stream",
     "text": [
      "torch.Size([40000, 1, 1, 31])\n",
      "torch.Size([10000, 1, 1, 31])\n"
     ]
    },
    {
     "name": "stderr",
     "output_type": "stream",
     "text": [
      "Epoch 51, global step 100256: 'val_loss' reached 2.79485 (best 2.79485), saving model to 'saved_models/classifier/model_bc4_do1/version_4/checkpoints/epoch=51-val_loss=2.79.ckpt' as top 1\n"
     ]
    },
    {
     "data": {
      "application/vnd.jupyter.widget-view+json": {
       "model_id": "2e7d12c8d37d43e59e59599ec0fd29d2",
       "version_major": 2,
       "version_minor": 0
      },
      "text/plain": [
       "Validation: |          | 0/? [00:00<?, ?it/s]"
      ]
     },
     "metadata": {},
     "output_type": "display_data"
    },
    {
     "name": "stdout",
     "output_type": "stream",
     "text": [
      "torch.Size([40000, 1, 1, 31])\n",
      "torch.Size([10000, 1, 1, 31])\n"
     ]
    },
    {
     "name": "stderr",
     "output_type": "stream",
     "text": [
      "Epoch 52, global step 102184: 'val_loss' was not in top 1\n"
     ]
    },
    {
     "data": {
      "application/vnd.jupyter.widget-view+json": {
       "model_id": "81e806d59c334838a0ab3cf478ff7a4c",
       "version_major": 2,
       "version_minor": 0
      },
      "text/plain": [
       "Validation: |          | 0/? [00:00<?, ?it/s]"
      ]
     },
     "metadata": {},
     "output_type": "display_data"
    },
    {
     "name": "stdout",
     "output_type": "stream",
     "text": [
      "torch.Size([40000, 1, 1, 31])\n",
      "torch.Size([10000, 1, 1, 31])\n"
     ]
    },
    {
     "name": "stderr",
     "output_type": "stream",
     "text": [
      "Epoch 53, global step 104112: 'val_loss' reached 2.79389 (best 2.79389), saving model to 'saved_models/classifier/model_bc4_do1/version_4/checkpoints/epoch=53-val_loss=2.79.ckpt' as top 1\n"
     ]
    },
    {
     "data": {
      "application/vnd.jupyter.widget-view+json": {
       "model_id": "242867a65db744ada6cb581de346e9fb",
       "version_major": 2,
       "version_minor": 0
      },
      "text/plain": [
       "Validation: |          | 0/? [00:00<?, ?it/s]"
      ]
     },
     "metadata": {},
     "output_type": "display_data"
    },
    {
     "name": "stdout",
     "output_type": "stream",
     "text": [
      "torch.Size([40000, 1, 1, 31])\n",
      "torch.Size([10000, 1, 1, 31])\n"
     ]
    },
    {
     "name": "stderr",
     "output_type": "stream",
     "text": [
      "Epoch 54, global step 106040: 'val_loss' was not in top 1\n"
     ]
    },
    {
     "data": {
      "application/vnd.jupyter.widget-view+json": {
       "model_id": "c8a15527bd644090a68a8483df1ab1ad",
       "version_major": 2,
       "version_minor": 0
      },
      "text/plain": [
       "Validation: |          | 0/? [00:00<?, ?it/s]"
      ]
     },
     "metadata": {},
     "output_type": "display_data"
    },
    {
     "name": "stdout",
     "output_type": "stream",
     "text": [
      "torch.Size([40000, 1, 1, 31])\n",
      "torch.Size([10000, 1, 1, 31])\n"
     ]
    },
    {
     "name": "stderr",
     "output_type": "stream",
     "text": [
      "Epoch 55, global step 107968: 'val_loss' reached 2.79386 (best 2.79386), saving model to 'saved_models/classifier/model_bc4_do1/version_4/checkpoints/epoch=55-val_loss=2.79.ckpt' as top 1\n"
     ]
    },
    {
     "data": {
      "application/vnd.jupyter.widget-view+json": {
       "model_id": "247d597a7a054be49697bfb79565b916",
       "version_major": 2,
       "version_minor": 0
      },
      "text/plain": [
       "Validation: |          | 0/? [00:00<?, ?it/s]"
      ]
     },
     "metadata": {},
     "output_type": "display_data"
    },
    {
     "name": "stdout",
     "output_type": "stream",
     "text": [
      "torch.Size([40000, 1, 1, 31])\n",
      "torch.Size([10000, 1, 1, 31])\n"
     ]
    },
    {
     "name": "stderr",
     "output_type": "stream",
     "text": [
      "Epoch 56, global step 109896: 'val_loss' reached 2.79278 (best 2.79278), saving model to 'saved_models/classifier/model_bc4_do1/version_4/checkpoints/epoch=56-val_loss=2.79.ckpt' as top 1\n"
     ]
    },
    {
     "data": {
      "application/vnd.jupyter.widget-view+json": {
       "model_id": "7fe69fa941c94ef8b38e96b74cf4df44",
       "version_major": 2,
       "version_minor": 0
      },
      "text/plain": [
       "Validation: |          | 0/? [00:00<?, ?it/s]"
      ]
     },
     "metadata": {},
     "output_type": "display_data"
    },
    {
     "name": "stdout",
     "output_type": "stream",
     "text": [
      "torch.Size([40000, 1, 1, 31])\n",
      "torch.Size([10000, 1, 1, 31])\n"
     ]
    },
    {
     "name": "stderr",
     "output_type": "stream",
     "text": [
      "Epoch 57, global step 111824: 'val_loss' was not in top 1\n"
     ]
    },
    {
     "data": {
      "application/vnd.jupyter.widget-view+json": {
       "model_id": "29115794263e46c0bdb0fee518e33bd0",
       "version_major": 2,
       "version_minor": 0
      },
      "text/plain": [
       "Validation: |          | 0/? [00:00<?, ?it/s]"
      ]
     },
     "metadata": {},
     "output_type": "display_data"
    },
    {
     "name": "stdout",
     "output_type": "stream",
     "text": [
      "torch.Size([40000, 1, 1, 31])\n",
      "torch.Size([10000, 1, 1, 31])\n"
     ]
    },
    {
     "name": "stderr",
     "output_type": "stream",
     "text": [
      "Epoch 58, global step 113752: 'val_loss' reached 2.79255 (best 2.79255), saving model to 'saved_models/classifier/model_bc4_do1/version_4/checkpoints/epoch=58-val_loss=2.79.ckpt' as top 1\n"
     ]
    },
    {
     "data": {
      "application/vnd.jupyter.widget-view+json": {
       "model_id": "3e89899e20b1416d91125ba17cad08ea",
       "version_major": 2,
       "version_minor": 0
      },
      "text/plain": [
       "Validation: |          | 0/? [00:00<?, ?it/s]"
      ]
     },
     "metadata": {},
     "output_type": "display_data"
    },
    {
     "name": "stdout",
     "output_type": "stream",
     "text": [
      "torch.Size([40000, 1, 1, 31])\n",
      "torch.Size([10000, 1, 1, 31])\n"
     ]
    },
    {
     "name": "stderr",
     "output_type": "stream",
     "text": [
      "Epoch 59, global step 115680: 'val_loss' reached 2.79241 (best 2.79241), saving model to 'saved_models/classifier/model_bc4_do1/version_4/checkpoints/epoch=59-val_loss=2.79.ckpt' as top 1\n"
     ]
    },
    {
     "data": {
      "application/vnd.jupyter.widget-view+json": {
       "model_id": "871c2c2cb6904838b5beb78863f5ba72",
       "version_major": 2,
       "version_minor": 0
      },
      "text/plain": [
       "Validation: |          | 0/? [00:00<?, ?it/s]"
      ]
     },
     "metadata": {},
     "output_type": "display_data"
    },
    {
     "name": "stdout",
     "output_type": "stream",
     "text": [
      "torch.Size([40000, 1, 1, 31])\n",
      "torch.Size([10000, 1, 1, 31])\n"
     ]
    },
    {
     "name": "stderr",
     "output_type": "stream",
     "text": [
      "Epoch 60, global step 117608: 'val_loss' was not in top 1\n"
     ]
    },
    {
     "data": {
      "application/vnd.jupyter.widget-view+json": {
       "model_id": "eb1dee76832842c9a054c05a0d5add5b",
       "version_major": 2,
       "version_minor": 0
      },
      "text/plain": [
       "Validation: |          | 0/? [00:00<?, ?it/s]"
      ]
     },
     "metadata": {},
     "output_type": "display_data"
    },
    {
     "name": "stdout",
     "output_type": "stream",
     "text": [
      "torch.Size([40000, 1, 1, 31])\n",
      "torch.Size([10000, 1, 1, 31])\n"
     ]
    },
    {
     "name": "stderr",
     "output_type": "stream",
     "text": [
      "Epoch 61, global step 119536: 'val_loss' was not in top 1\n"
     ]
    },
    {
     "data": {
      "application/vnd.jupyter.widget-view+json": {
       "model_id": "2a5ba7df9c8941c48d0d26e96fb4c98e",
       "version_major": 2,
       "version_minor": 0
      },
      "text/plain": [
       "Validation: |          | 0/? [00:00<?, ?it/s]"
      ]
     },
     "metadata": {},
     "output_type": "display_data"
    },
    {
     "name": "stdout",
     "output_type": "stream",
     "text": [
      "torch.Size([40000, 1, 1, 31])\n",
      "torch.Size([10000, 1, 1, 31])\n"
     ]
    },
    {
     "name": "stderr",
     "output_type": "stream",
     "text": [
      "Epoch 62, global step 121464: 'val_loss' reached 2.79095 (best 2.79095), saving model to 'saved_models/classifier/model_bc4_do1/version_4/checkpoints/epoch=62-val_loss=2.79.ckpt' as top 1\n"
     ]
    },
    {
     "data": {
      "application/vnd.jupyter.widget-view+json": {
       "model_id": "232d415825c8402284ac190d7d9acb14",
       "version_major": 2,
       "version_minor": 0
      },
      "text/plain": [
       "Validation: |          | 0/? [00:00<?, ?it/s]"
      ]
     },
     "metadata": {},
     "output_type": "display_data"
    },
    {
     "name": "stdout",
     "output_type": "stream",
     "text": [
      "torch.Size([40000, 1, 1, 31])\n",
      "torch.Size([10000, 1, 1, 31])\n"
     ]
    },
    {
     "name": "stderr",
     "output_type": "stream",
     "text": [
      "Epoch 63, global step 123392: 'val_loss' reached 2.79026 (best 2.79026), saving model to 'saved_models/classifier/model_bc4_do1/version_4/checkpoints/epoch=63-val_loss=2.79.ckpt' as top 1\n"
     ]
    },
    {
     "data": {
      "application/vnd.jupyter.widget-view+json": {
       "model_id": "1f9b871cea7c410ebbf4a93903bb7a36",
       "version_major": 2,
       "version_minor": 0
      },
      "text/plain": [
       "Validation: |          | 0/? [00:00<?, ?it/s]"
      ]
     },
     "metadata": {},
     "output_type": "display_data"
    },
    {
     "name": "stdout",
     "output_type": "stream",
     "text": [
      "torch.Size([40000, 1, 1, 31])\n",
      "torch.Size([10000, 1, 1, 31])\n"
     ]
    },
    {
     "name": "stderr",
     "output_type": "stream",
     "text": [
      "Epoch 64, global step 125320: 'val_loss' was not in top 1\n"
     ]
    },
    {
     "data": {
      "application/vnd.jupyter.widget-view+json": {
       "model_id": "a4d420e43ecd4c59bec168d9cb168ed9",
       "version_major": 2,
       "version_minor": 0
      },
      "text/plain": [
       "Validation: |          | 0/? [00:00<?, ?it/s]"
      ]
     },
     "metadata": {},
     "output_type": "display_data"
    },
    {
     "name": "stdout",
     "output_type": "stream",
     "text": [
      "torch.Size([40000, 1, 1, 31])\n",
      "torch.Size([10000, 1, 1, 31])\n"
     ]
    },
    {
     "name": "stderr",
     "output_type": "stream",
     "text": [
      "Epoch 65, global step 127248: 'val_loss' was not in top 1\n"
     ]
    },
    {
     "data": {
      "application/vnd.jupyter.widget-view+json": {
       "model_id": "6077e95cbd5242e7b3ee6839956ad0f8",
       "version_major": 2,
       "version_minor": 0
      },
      "text/plain": [
       "Validation: |          | 0/? [00:00<?, ?it/s]"
      ]
     },
     "metadata": {},
     "output_type": "display_data"
    },
    {
     "name": "stdout",
     "output_type": "stream",
     "text": [
      "torch.Size([40000, 1, 1, 31])\n",
      "torch.Size([10000, 1, 1, 31])\n"
     ]
    },
    {
     "name": "stderr",
     "output_type": "stream",
     "text": [
      "Epoch 66, global step 129176: 'val_loss' was not in top 1\n"
     ]
    },
    {
     "data": {
      "application/vnd.jupyter.widget-view+json": {
       "model_id": "f9ce7b7bef6d47d9ba3b2e1e8922fe96",
       "version_major": 2,
       "version_minor": 0
      },
      "text/plain": [
       "Validation: |          | 0/? [00:00<?, ?it/s]"
      ]
     },
     "metadata": {},
     "output_type": "display_data"
    },
    {
     "name": "stdout",
     "output_type": "stream",
     "text": [
      "torch.Size([40000, 1, 1, 31])\n",
      "torch.Size([10000, 1, 1, 31])\n"
     ]
    },
    {
     "name": "stderr",
     "output_type": "stream",
     "text": [
      "Epoch 67, global step 131104: 'val_loss' reached 2.78953 (best 2.78953), saving model to 'saved_models/classifier/model_bc4_do1/version_4/checkpoints/epoch=67-val_loss=2.79.ckpt' as top 1\n"
     ]
    },
    {
     "data": {
      "application/vnd.jupyter.widget-view+json": {
       "model_id": "c2427d050d4746c7a0c0e72b3a70c6d8",
       "version_major": 2,
       "version_minor": 0
      },
      "text/plain": [
       "Validation: |          | 0/? [00:00<?, ?it/s]"
      ]
     },
     "metadata": {},
     "output_type": "display_data"
    },
    {
     "name": "stdout",
     "output_type": "stream",
     "text": [
      "torch.Size([40000, 1, 1, 31])\n",
      "torch.Size([10000, 1, 1, 31])\n"
     ]
    },
    {
     "name": "stderr",
     "output_type": "stream",
     "text": [
      "Epoch 68, global step 133032: 'val_loss' reached 2.78934 (best 2.78934), saving model to 'saved_models/classifier/model_bc4_do1/version_4/checkpoints/epoch=68-val_loss=2.79.ckpt' as top 1\n"
     ]
    },
    {
     "data": {
      "application/vnd.jupyter.widget-view+json": {
       "model_id": "3b715049355a4e8a8d30705c0ad08940",
       "version_major": 2,
       "version_minor": 0
      },
      "text/plain": [
       "Validation: |          | 0/? [00:00<?, ?it/s]"
      ]
     },
     "metadata": {},
     "output_type": "display_data"
    },
    {
     "name": "stdout",
     "output_type": "stream",
     "text": [
      "torch.Size([40000, 1, 1, 31])\n",
      "torch.Size([10000, 1, 1, 31])\n"
     ]
    },
    {
     "name": "stderr",
     "output_type": "stream",
     "text": [
      "Epoch 69, global step 134960: 'val_loss' reached 2.78844 (best 2.78844), saving model to 'saved_models/classifier/model_bc4_do1/version_4/checkpoints/epoch=69-val_loss=2.79.ckpt' as top 1\n"
     ]
    },
    {
     "data": {
      "application/vnd.jupyter.widget-view+json": {
       "model_id": "bd60711b8b5f4523a6b48911499b4f29",
       "version_major": 2,
       "version_minor": 0
      },
      "text/plain": [
       "Validation: |          | 0/? [00:00<?, ?it/s]"
      ]
     },
     "metadata": {},
     "output_type": "display_data"
    },
    {
     "name": "stdout",
     "output_type": "stream",
     "text": [
      "torch.Size([40000, 1, 1, 31])\n",
      "torch.Size([10000, 1, 1, 31])\n"
     ]
    },
    {
     "name": "stderr",
     "output_type": "stream",
     "text": [
      "Epoch 70, global step 136888: 'val_loss' was not in top 1\n"
     ]
    },
    {
     "data": {
      "application/vnd.jupyter.widget-view+json": {
       "model_id": "51661ea9c048489995813a43c8903fd5",
       "version_major": 2,
       "version_minor": 0
      },
      "text/plain": [
       "Validation: |          | 0/? [00:00<?, ?it/s]"
      ]
     },
     "metadata": {},
     "output_type": "display_data"
    },
    {
     "name": "stdout",
     "output_type": "stream",
     "text": [
      "torch.Size([40000, 1, 1, 31])\n",
      "torch.Size([10000, 1, 1, 31])\n"
     ]
    },
    {
     "name": "stderr",
     "output_type": "stream",
     "text": [
      "Epoch 71, global step 138816: 'val_loss' was not in top 1\n"
     ]
    },
    {
     "data": {
      "application/vnd.jupyter.widget-view+json": {
       "model_id": "3eac92e342d64d8db1ac0af5eacabfd8",
       "version_major": 2,
       "version_minor": 0
      },
      "text/plain": [
       "Validation: |          | 0/? [00:00<?, ?it/s]"
      ]
     },
     "metadata": {},
     "output_type": "display_data"
    },
    {
     "name": "stdout",
     "output_type": "stream",
     "text": [
      "torch.Size([40000, 1, 1, 31])\n",
      "torch.Size([10000, 1, 1, 31])\n"
     ]
    },
    {
     "name": "stderr",
     "output_type": "stream",
     "text": [
      "Epoch 72, global step 140744: 'val_loss' was not in top 1\n"
     ]
    },
    {
     "data": {
      "application/vnd.jupyter.widget-view+json": {
       "model_id": "3df8206bfc0a41acab8caa3e5c9b5246",
       "version_major": 2,
       "version_minor": 0
      },
      "text/plain": [
       "Validation: |          | 0/? [00:00<?, ?it/s]"
      ]
     },
     "metadata": {},
     "output_type": "display_data"
    },
    {
     "name": "stdout",
     "output_type": "stream",
     "text": [
      "torch.Size([40000, 1, 1, 31])\n",
      "torch.Size([10000, 1, 1, 31])\n"
     ]
    },
    {
     "name": "stderr",
     "output_type": "stream",
     "text": [
      "Epoch 73, global step 142672: 'val_loss' was not in top 1\n"
     ]
    },
    {
     "data": {
      "application/vnd.jupyter.widget-view+json": {
       "model_id": "5f2404a138554a7ebfa91a9c1cb8b40e",
       "version_major": 2,
       "version_minor": 0
      },
      "text/plain": [
       "Validation: |          | 0/? [00:00<?, ?it/s]"
      ]
     },
     "metadata": {},
     "output_type": "display_data"
    },
    {
     "name": "stdout",
     "output_type": "stream",
     "text": [
      "torch.Size([40000, 1, 1, 31])\n",
      "torch.Size([10000, 1, 1, 31])\n"
     ]
    },
    {
     "name": "stderr",
     "output_type": "stream",
     "text": [
      "Epoch 74, global step 144600: 'val_loss' reached 2.78827 (best 2.78827), saving model to 'saved_models/classifier/model_bc4_do1/version_4/checkpoints/epoch=74-val_loss=2.79.ckpt' as top 1\n"
     ]
    },
    {
     "data": {
      "application/vnd.jupyter.widget-view+json": {
       "model_id": "8a12712b72904414ad19e690cf4dfc7f",
       "version_major": 2,
       "version_minor": 0
      },
      "text/plain": [
       "Validation: |          | 0/? [00:00<?, ?it/s]"
      ]
     },
     "metadata": {},
     "output_type": "display_data"
    },
    {
     "name": "stdout",
     "output_type": "stream",
     "text": [
      "torch.Size([40000, 1, 1, 31])\n",
      "torch.Size([10000, 1, 1, 31])\n"
     ]
    },
    {
     "name": "stderr",
     "output_type": "stream",
     "text": [
      "Epoch 75, global step 146528: 'val_loss' was not in top 1\n"
     ]
    },
    {
     "data": {
      "application/vnd.jupyter.widget-view+json": {
       "model_id": "a81164f86c4b4db4bc988cfed4d7a4b0",
       "version_major": 2,
       "version_minor": 0
      },
      "text/plain": [
       "Validation: |          | 0/? [00:00<?, ?it/s]"
      ]
     },
     "metadata": {},
     "output_type": "display_data"
    },
    {
     "name": "stdout",
     "output_type": "stream",
     "text": [
      "torch.Size([40000, 1, 1, 31])\n",
      "torch.Size([10000, 1, 1, 31])\n"
     ]
    },
    {
     "name": "stderr",
     "output_type": "stream",
     "text": [
      "Epoch 76, global step 148456: 'val_loss' reached 2.78782 (best 2.78782), saving model to 'saved_models/classifier/model_bc4_do1/version_4/checkpoints/epoch=76-val_loss=2.79.ckpt' as top 1\n"
     ]
    },
    {
     "data": {
      "application/vnd.jupyter.widget-view+json": {
       "model_id": "e612dcddbc174cf79c716d3167c4d998",
       "version_major": 2,
       "version_minor": 0
      },
      "text/plain": [
       "Validation: |          | 0/? [00:00<?, ?it/s]"
      ]
     },
     "metadata": {},
     "output_type": "display_data"
    },
    {
     "name": "stdout",
     "output_type": "stream",
     "text": [
      "torch.Size([40000, 1, 1, 31])\n",
      "torch.Size([10000, 1, 1, 31])\n"
     ]
    },
    {
     "name": "stderr",
     "output_type": "stream",
     "text": [
      "Epoch 77, global step 150384: 'val_loss' was not in top 1\n"
     ]
    },
    {
     "data": {
      "application/vnd.jupyter.widget-view+json": {
       "model_id": "e5d9f0bd02644d6b930890649c3012a6",
       "version_major": 2,
       "version_minor": 0
      },
      "text/plain": [
       "Validation: |          | 0/? [00:00<?, ?it/s]"
      ]
     },
     "metadata": {},
     "output_type": "display_data"
    },
    {
     "name": "stdout",
     "output_type": "stream",
     "text": [
      "torch.Size([40000, 1, 1, 31])\n",
      "torch.Size([10000, 1, 1, 31])\n"
     ]
    },
    {
     "name": "stderr",
     "output_type": "stream",
     "text": [
      "Epoch 78, global step 152312: 'val_loss' was not in top 1\n"
     ]
    },
    {
     "data": {
      "application/vnd.jupyter.widget-view+json": {
       "model_id": "e26cc270fa9f4f6e85e2e5b38356e1a3",
       "version_major": 2,
       "version_minor": 0
      },
      "text/plain": [
       "Validation: |          | 0/? [00:00<?, ?it/s]"
      ]
     },
     "metadata": {},
     "output_type": "display_data"
    },
    {
     "name": "stdout",
     "output_type": "stream",
     "text": [
      "torch.Size([40000, 1, 1, 31])\n",
      "torch.Size([10000, 1, 1, 31])\n"
     ]
    },
    {
     "name": "stderr",
     "output_type": "stream",
     "text": [
      "Epoch 79, global step 154240: 'val_loss' was not in top 1\n"
     ]
    },
    {
     "data": {
      "application/vnd.jupyter.widget-view+json": {
       "model_id": "f46c7e92740c4780b8b9f7c154808629",
       "version_major": 2,
       "version_minor": 0
      },
      "text/plain": [
       "Validation: |          | 0/? [00:00<?, ?it/s]"
      ]
     },
     "metadata": {},
     "output_type": "display_data"
    },
    {
     "name": "stdout",
     "output_type": "stream",
     "text": [
      "torch.Size([40000, 1, 1, 31])\n",
      "torch.Size([10000, 1, 1, 31])\n"
     ]
    },
    {
     "name": "stderr",
     "output_type": "stream",
     "text": [
      "Epoch 80, global step 156168: 'val_loss' was not in top 1\n"
     ]
    },
    {
     "data": {
      "application/vnd.jupyter.widget-view+json": {
       "model_id": "7482e8dde38a434a8273aca8c0c3023c",
       "version_major": 2,
       "version_minor": 0
      },
      "text/plain": [
       "Validation: |          | 0/? [00:00<?, ?it/s]"
      ]
     },
     "metadata": {},
     "output_type": "display_data"
    },
    {
     "name": "stdout",
     "output_type": "stream",
     "text": [
      "torch.Size([40000, 1, 1, 31])\n",
      "torch.Size([10000, 1, 1, 31])\n"
     ]
    },
    {
     "name": "stderr",
     "output_type": "stream",
     "text": [
      "Epoch 81, global step 158096: 'val_loss' was not in top 1\n"
     ]
    },
    {
     "data": {
      "application/vnd.jupyter.widget-view+json": {
       "model_id": "37d66779102945429b8b4fb8c4b34d7f",
       "version_major": 2,
       "version_minor": 0
      },
      "text/plain": [
       "Validation: |          | 0/? [00:00<?, ?it/s]"
      ]
     },
     "metadata": {},
     "output_type": "display_data"
    },
    {
     "name": "stdout",
     "output_type": "stream",
     "text": [
      "torch.Size([40000, 1, 1, 31])\n",
      "torch.Size([10000, 1, 1, 31])\n"
     ]
    },
    {
     "name": "stderr",
     "output_type": "stream",
     "text": [
      "Epoch 82, global step 160024: 'val_loss' was not in top 1\n"
     ]
    },
    {
     "data": {
      "application/vnd.jupyter.widget-view+json": {
       "model_id": "c6f70622dd6145a6bfe4e915bf0347df",
       "version_major": 2,
       "version_minor": 0
      },
      "text/plain": [
       "Validation: |          | 0/? [00:00<?, ?it/s]"
      ]
     },
     "metadata": {},
     "output_type": "display_data"
    },
    {
     "name": "stdout",
     "output_type": "stream",
     "text": [
      "torch.Size([40000, 1, 1, 31])\n",
      "torch.Size([10000, 1, 1, 31])\n"
     ]
    },
    {
     "name": "stderr",
     "output_type": "stream",
     "text": [
      "Epoch 83, global step 161952: 'val_loss' was not in top 1\n"
     ]
    },
    {
     "data": {
      "application/vnd.jupyter.widget-view+json": {
       "model_id": "95af7640bc864edb810f2046b10018b5",
       "version_major": 2,
       "version_minor": 0
      },
      "text/plain": [
       "Validation: |          | 0/? [00:00<?, ?it/s]"
      ]
     },
     "metadata": {},
     "output_type": "display_data"
    },
    {
     "name": "stdout",
     "output_type": "stream",
     "text": [
      "torch.Size([40000, 1, 1, 31])\n",
      "torch.Size([10000, 1, 1, 31])\n"
     ]
    },
    {
     "name": "stderr",
     "output_type": "stream",
     "text": [
      "Epoch 84, global step 163880: 'val_loss' was not in top 1\n"
     ]
    },
    {
     "data": {
      "application/vnd.jupyter.widget-view+json": {
       "model_id": "f8914202a2fe4eb19e7f6ec49ffbab28",
       "version_major": 2,
       "version_minor": 0
      },
      "text/plain": [
       "Validation: |          | 0/? [00:00<?, ?it/s]"
      ]
     },
     "metadata": {},
     "output_type": "display_data"
    },
    {
     "name": "stdout",
     "output_type": "stream",
     "text": [
      "torch.Size([40000, 1, 1, 31])\n",
      "torch.Size([10000, 1, 1, 31])\n"
     ]
    },
    {
     "name": "stderr",
     "output_type": "stream",
     "text": [
      "Epoch 85, global step 165808: 'val_loss' was not in top 1\n"
     ]
    },
    {
     "data": {
      "application/vnd.jupyter.widget-view+json": {
       "model_id": "beea01d89882492ca7f9c0d56bb51dd4",
       "version_major": 2,
       "version_minor": 0
      },
      "text/plain": [
       "Validation: |          | 0/? [00:00<?, ?it/s]"
      ]
     },
     "metadata": {},
     "output_type": "display_data"
    },
    {
     "name": "stdout",
     "output_type": "stream",
     "text": [
      "torch.Size([40000, 1, 1, 31])\n",
      "torch.Size([10000, 1, 1, 31])\n"
     ]
    },
    {
     "name": "stderr",
     "output_type": "stream",
     "text": [
      "Epoch 86, global step 167736: 'val_loss' was not in top 1\n"
     ]
    },
    {
     "name": "stdout",
     "output_type": "stream",
     "text": [
      "Finished training, saving model...\n"
     ]
    },
    {
     "data": {
      "application/vnd.jupyter.widget-view+json": {
       "model_id": "f994f1ba801549d5aa2f2680c25fafcd",
       "version_major": 2,
       "version_minor": 0
      },
      "text/plain": [
       "Testing: |          | 0/? [00:00<?, ?it/s]"
      ]
     },
     "metadata": {},
     "output_type": "display_data"
    },
    {
     "data": {
      "application/vnd.jupyter.widget-view+json": {
       "model_id": "ef9f1d66e2b946a0b4aeb2b1e0d4c329",
       "version_major": 2,
       "version_minor": 0
      },
      "text/plain": [
       "Testing: |          | 0/? [00:00<?, ?it/s]"
      ]
     },
     "metadata": {},
     "output_type": "display_data"
    },
    {
     "name": "stderr",
     "output_type": "stream",
     "text": [
      "GPU available: False, used: False\n",
      "TPU available: False, using: 0 TPU cores\n",
      "IPU available: False, using: 0 IPUs\n",
      "HPU available: False, using: 0 HPUs\n",
      "Missing logger folder: saved_models/classifier/model_bc6_do1\n",
      "\n",
      "  | Name      | Type               | Params\n",
      "-------------------------------------------------\n",
      "0 | accuracy  | MulticlassAccuracy | 0     \n",
      "1 | criterion | CrossEntropyLoss   | 0     \n",
      "2 | network   | Sequential         | 367   \n",
      "-------------------------------------------------\n",
      "367       Trainable params\n",
      "0         Non-trainable params\n",
      "367       Total params\n",
      "0.001     Total estimated model params size (MB)\n"
     ]
    },
    {
     "name": "stdout",
     "output_type": "stream",
     "text": [
      "testing on a single batch...\n",
      "inished testing on a single batch...\n"
     ]
    },
    {
     "data": {
      "application/vnd.jupyter.widget-view+json": {
       "model_id": "e07e960431f04263a538bd95052dc63f",
       "version_major": 2,
       "version_minor": 0
      },
      "text/plain": [
       "Sanity Checking: |          | 0/? [00:00<?, ?it/s]"
      ]
     },
     "metadata": {},
     "output_type": "display_data"
    },
    {
     "name": "stdout",
     "output_type": "stream",
     "text": [
      "torch.Size([40000, 1, 1, 31])\n",
      "torch.Size([10000, 1, 1, 31])\n"
     ]
    },
    {
     "data": {
      "application/vnd.jupyter.widget-view+json": {
       "model_id": "01c69ad65d6345aa871e6a64de4b8fd5",
       "version_major": 2,
       "version_minor": 0
      },
      "text/plain": [
       "Training: |          | 0/? [00:00<?, ?it/s]"
      ]
     },
     "metadata": {},
     "output_type": "display_data"
    },
    {
     "data": {
      "application/vnd.jupyter.widget-view+json": {
       "model_id": "5937e1bd6ec04010aa8179635f39aa4b",
       "version_major": 2,
       "version_minor": 0
      },
      "text/plain": [
       "Validation: |          | 0/? [00:00<?, ?it/s]"
      ]
     },
     "metadata": {},
     "output_type": "display_data"
    },
    {
     "name": "stdout",
     "output_type": "stream",
     "text": [
      "torch.Size([40000, 1, 1, 31])\n",
      "torch.Size([10000, 1, 1, 31])\n"
     ]
    },
    {
     "name": "stderr",
     "output_type": "stream",
     "text": [
      "Epoch 0, global step 1928: 'val_loss' reached 3.07872 (best 3.07872), saving model to 'saved_models/classifier/model_bc6_do1/version_0/checkpoints/epoch=0-val_loss=3.08.ckpt' as top 1\n"
     ]
    },
    {
     "data": {
      "application/vnd.jupyter.widget-view+json": {
       "model_id": "c78744652d5245c9bf94cf3797f8e418",
       "version_major": 2,
       "version_minor": 0
      },
      "text/plain": [
       "Validation: |          | 0/? [00:00<?, ?it/s]"
      ]
     },
     "metadata": {},
     "output_type": "display_data"
    },
    {
     "name": "stdout",
     "output_type": "stream",
     "text": [
      "torch.Size([40000, 1, 1, 31])\n",
      "torch.Size([10000, 1, 1, 31])\n"
     ]
    },
    {
     "name": "stderr",
     "output_type": "stream",
     "text": [
      "Epoch 1, global step 3856: 'val_loss' reached 3.04452 (best 3.04452), saving model to 'saved_models/classifier/model_bc6_do1/version_0/checkpoints/epoch=1-val_loss=3.04.ckpt' as top 1\n"
     ]
    },
    {
     "data": {
      "application/vnd.jupyter.widget-view+json": {
       "model_id": "c24994bd84fa45549a99a050cc44e21f",
       "version_major": 2,
       "version_minor": 0
      },
      "text/plain": [
       "Validation: |          | 0/? [00:00<?, ?it/s]"
      ]
     },
     "metadata": {},
     "output_type": "display_data"
    },
    {
     "name": "stdout",
     "output_type": "stream",
     "text": [
      "torch.Size([40000, 1, 1, 31])\n",
      "torch.Size([10000, 1, 1, 31])\n"
     ]
    },
    {
     "name": "stderr",
     "output_type": "stream",
     "text": [
      "Epoch 2, global step 5784: 'val_loss' reached 3.02991 (best 3.02991), saving model to 'saved_models/classifier/model_bc6_do1/version_0/checkpoints/epoch=2-val_loss=3.03.ckpt' as top 1\n"
     ]
    },
    {
     "data": {
      "application/vnd.jupyter.widget-view+json": {
       "model_id": "f4dad617f2074b4c9c93aa3850ec5db0",
       "version_major": 2,
       "version_minor": 0
      },
      "text/plain": [
       "Validation: |          | 0/? [00:00<?, ?it/s]"
      ]
     },
     "metadata": {},
     "output_type": "display_data"
    },
    {
     "name": "stdout",
     "output_type": "stream",
     "text": [
      "torch.Size([40000, 1, 1, 31])\n",
      "torch.Size([10000, 1, 1, 31])\n"
     ]
    },
    {
     "name": "stderr",
     "output_type": "stream",
     "text": [
      "Epoch 3, global step 7712: 'val_loss' reached 3.02407 (best 3.02407), saving model to 'saved_models/classifier/model_bc6_do1/version_0/checkpoints/epoch=3-val_loss=3.02.ckpt' as top 1\n"
     ]
    },
    {
     "data": {
      "application/vnd.jupyter.widget-view+json": {
       "model_id": "b2dc489dc3da4a478a7a7b6ae2817750",
       "version_major": 2,
       "version_minor": 0
      },
      "text/plain": [
       "Validation: |          | 0/? [00:00<?, ?it/s]"
      ]
     },
     "metadata": {},
     "output_type": "display_data"
    },
    {
     "name": "stdout",
     "output_type": "stream",
     "text": [
      "torch.Size([40000, 1, 1, 31])\n",
      "torch.Size([10000, 1, 1, 31])\n"
     ]
    },
    {
     "name": "stderr",
     "output_type": "stream",
     "text": [
      "Epoch 4, global step 9640: 'val_loss' reached 3.00684 (best 3.00684), saving model to 'saved_models/classifier/model_bc6_do1/version_0/checkpoints/epoch=4-val_loss=3.01.ckpt' as top 1\n"
     ]
    },
    {
     "data": {
      "application/vnd.jupyter.widget-view+json": {
       "model_id": "8e658f1d7b66475fac86639368e1256b",
       "version_major": 2,
       "version_minor": 0
      },
      "text/plain": [
       "Validation: |          | 0/? [00:00<?, ?it/s]"
      ]
     },
     "metadata": {},
     "output_type": "display_data"
    },
    {
     "name": "stdout",
     "output_type": "stream",
     "text": [
      "torch.Size([40000, 1, 1, 31])\n",
      "torch.Size([10000, 1, 1, 31])\n"
     ]
    },
    {
     "name": "stderr",
     "output_type": "stream",
     "text": [
      "Epoch 5, global step 11568: 'val_loss' reached 2.98415 (best 2.98415), saving model to 'saved_models/classifier/model_bc6_do1/version_0/checkpoints/epoch=5-val_loss=2.98.ckpt' as top 1\n"
     ]
    },
    {
     "data": {
      "application/vnd.jupyter.widget-view+json": {
       "model_id": "e8125fdbb18141e9b9c6714cc8458521",
       "version_major": 2,
       "version_minor": 0
      },
      "text/plain": [
       "Validation: |          | 0/? [00:00<?, ?it/s]"
      ]
     },
     "metadata": {},
     "output_type": "display_data"
    },
    {
     "name": "stdout",
     "output_type": "stream",
     "text": [
      "torch.Size([40000, 1, 1, 31])\n",
      "torch.Size([10000, 1, 1, 31])\n"
     ]
    },
    {
     "name": "stderr",
     "output_type": "stream",
     "text": [
      "Epoch 6, global step 13496: 'val_loss' reached 2.96820 (best 2.96820), saving model to 'saved_models/classifier/model_bc6_do1/version_0/checkpoints/epoch=6-val_loss=2.97.ckpt' as top 1\n"
     ]
    },
    {
     "data": {
      "application/vnd.jupyter.widget-view+json": {
       "model_id": "f84103cdf4ca4177bb8463cf154688ca",
       "version_major": 2,
       "version_minor": 0
      },
      "text/plain": [
       "Validation: |          | 0/? [00:00<?, ?it/s]"
      ]
     },
     "metadata": {},
     "output_type": "display_data"
    },
    {
     "name": "stdout",
     "output_type": "stream",
     "text": [
      "torch.Size([40000, 1, 1, 31])\n",
      "torch.Size([10000, 1, 1, 31])\n"
     ]
    },
    {
     "name": "stderr",
     "output_type": "stream",
     "text": [
      "Epoch 7, global step 15424: 'val_loss' reached 2.94492 (best 2.94492), saving model to 'saved_models/classifier/model_bc6_do1/version_0/checkpoints/epoch=7-val_loss=2.94.ckpt' as top 1\n"
     ]
    },
    {
     "data": {
      "application/vnd.jupyter.widget-view+json": {
       "model_id": "630eb27c0f1e40fb9f1b21a389cd38b2",
       "version_major": 2,
       "version_minor": 0
      },
      "text/plain": [
       "Validation: |          | 0/? [00:00<?, ?it/s]"
      ]
     },
     "metadata": {},
     "output_type": "display_data"
    },
    {
     "name": "stdout",
     "output_type": "stream",
     "text": [
      "torch.Size([40000, 1, 1, 31])\n",
      "torch.Size([10000, 1, 1, 31])\n"
     ]
    },
    {
     "name": "stderr",
     "output_type": "stream",
     "text": [
      "Epoch 8, global step 17352: 'val_loss' reached 2.92813 (best 2.92813), saving model to 'saved_models/classifier/model_bc6_do1/version_0/checkpoints/epoch=8-val_loss=2.93.ckpt' as top 1\n"
     ]
    },
    {
     "data": {
      "application/vnd.jupyter.widget-view+json": {
       "model_id": "0ad6675e4d99460c9fd1e4e6817f5d26",
       "version_major": 2,
       "version_minor": 0
      },
      "text/plain": [
       "Validation: |          | 0/? [00:00<?, ?it/s]"
      ]
     },
     "metadata": {},
     "output_type": "display_data"
    },
    {
     "name": "stdout",
     "output_type": "stream",
     "text": [
      "torch.Size([40000, 1, 1, 31])\n",
      "torch.Size([10000, 1, 1, 31])\n"
     ]
    },
    {
     "name": "stderr",
     "output_type": "stream",
     "text": [
      "Epoch 9, global step 19280: 'val_loss' reached 2.90902 (best 2.90902), saving model to 'saved_models/classifier/model_bc6_do1/version_0/checkpoints/epoch=9-val_loss=2.91.ckpt' as top 1\n"
     ]
    },
    {
     "data": {
      "application/vnd.jupyter.widget-view+json": {
       "model_id": "173fa49392fa401db294734b07d3dbee",
       "version_major": 2,
       "version_minor": 0
      },
      "text/plain": [
       "Validation: |          | 0/? [00:00<?, ?it/s]"
      ]
     },
     "metadata": {},
     "output_type": "display_data"
    },
    {
     "name": "stdout",
     "output_type": "stream",
     "text": [
      "torch.Size([40000, 1, 1, 31])\n",
      "torch.Size([10000, 1, 1, 31])\n"
     ]
    },
    {
     "name": "stderr",
     "output_type": "stream",
     "text": [
      "Epoch 10, global step 21208: 'val_loss' reached 2.89254 (best 2.89254), saving model to 'saved_models/classifier/model_bc6_do1/version_0/checkpoints/epoch=10-val_loss=2.89.ckpt' as top 1\n"
     ]
    },
    {
     "data": {
      "application/vnd.jupyter.widget-view+json": {
       "model_id": "f78a1472b8e94e8fa43439d1ad746994",
       "version_major": 2,
       "version_minor": 0
      },
      "text/plain": [
       "Validation: |          | 0/? [00:00<?, ?it/s]"
      ]
     },
     "metadata": {},
     "output_type": "display_data"
    },
    {
     "name": "stdout",
     "output_type": "stream",
     "text": [
      "torch.Size([40000, 1, 1, 31])\n",
      "torch.Size([10000, 1, 1, 31])\n"
     ]
    },
    {
     "name": "stderr",
     "output_type": "stream",
     "text": [
      "Epoch 11, global step 23136: 'val_loss' reached 2.87317 (best 2.87317), saving model to 'saved_models/classifier/model_bc6_do1/version_0/checkpoints/epoch=11-val_loss=2.87.ckpt' as top 1\n"
     ]
    },
    {
     "data": {
      "application/vnd.jupyter.widget-view+json": {
       "model_id": "f5da37f1db1b40fd9f0fe7d3c8d3a122",
       "version_major": 2,
       "version_minor": 0
      },
      "text/plain": [
       "Validation: |          | 0/? [00:00<?, ?it/s]"
      ]
     },
     "metadata": {},
     "output_type": "display_data"
    },
    {
     "name": "stdout",
     "output_type": "stream",
     "text": [
      "torch.Size([40000, 1, 1, 31])\n",
      "torch.Size([10000, 1, 1, 31])\n"
     ]
    },
    {
     "name": "stderr",
     "output_type": "stream",
     "text": [
      "Epoch 12, global step 25064: 'val_loss' reached 2.86069 (best 2.86069), saving model to 'saved_models/classifier/model_bc6_do1/version_0/checkpoints/epoch=12-val_loss=2.86.ckpt' as top 1\n"
     ]
    },
    {
     "data": {
      "application/vnd.jupyter.widget-view+json": {
       "model_id": "3b22ac952d8f408a9f751277e4330980",
       "version_major": 2,
       "version_minor": 0
      },
      "text/plain": [
       "Validation: |          | 0/? [00:00<?, ?it/s]"
      ]
     },
     "metadata": {},
     "output_type": "display_data"
    },
    {
     "name": "stdout",
     "output_type": "stream",
     "text": [
      "torch.Size([40000, 1, 1, 31])\n",
      "torch.Size([10000, 1, 1, 31])\n"
     ]
    },
    {
     "name": "stderr",
     "output_type": "stream",
     "text": [
      "Epoch 13, global step 26992: 'val_loss' reached 2.84385 (best 2.84385), saving model to 'saved_models/classifier/model_bc6_do1/version_0/checkpoints/epoch=13-val_loss=2.84.ckpt' as top 1\n"
     ]
    },
    {
     "data": {
      "application/vnd.jupyter.widget-view+json": {
       "model_id": "3ec52252022d498d8c72fea84a89412a",
       "version_major": 2,
       "version_minor": 0
      },
      "text/plain": [
       "Validation: |          | 0/? [00:00<?, ?it/s]"
      ]
     },
     "metadata": {},
     "output_type": "display_data"
    },
    {
     "name": "stdout",
     "output_type": "stream",
     "text": [
      "torch.Size([40000, 1, 1, 31])\n",
      "torch.Size([10000, 1, 1, 31])\n"
     ]
    },
    {
     "name": "stderr",
     "output_type": "stream",
     "text": [
      "Epoch 14, global step 28920: 'val_loss' reached 2.83117 (best 2.83117), saving model to 'saved_models/classifier/model_bc6_do1/version_0/checkpoints/epoch=14-val_loss=2.83.ckpt' as top 1\n"
     ]
    },
    {
     "data": {
      "application/vnd.jupyter.widget-view+json": {
       "model_id": "3673acda8aa046b1a777efe74409a31c",
       "version_major": 2,
       "version_minor": 0
      },
      "text/plain": [
       "Validation: |          | 0/? [00:00<?, ?it/s]"
      ]
     },
     "metadata": {},
     "output_type": "display_data"
    },
    {
     "name": "stdout",
     "output_type": "stream",
     "text": [
      "torch.Size([40000, 1, 1, 31])\n",
      "torch.Size([10000, 1, 1, 31])\n"
     ]
    },
    {
     "name": "stderr",
     "output_type": "stream",
     "text": [
      "Epoch 15, global step 30848: 'val_loss' reached 2.81140 (best 2.81140), saving model to 'saved_models/classifier/model_bc6_do1/version_0/checkpoints/epoch=15-val_loss=2.81.ckpt' as top 1\n"
     ]
    },
    {
     "data": {
      "application/vnd.jupyter.widget-view+json": {
       "model_id": "8d11f328b1494c87be082f75ca4a187f",
       "version_major": 2,
       "version_minor": 0
      },
      "text/plain": [
       "Validation: |          | 0/? [00:00<?, ?it/s]"
      ]
     },
     "metadata": {},
     "output_type": "display_data"
    },
    {
     "name": "stdout",
     "output_type": "stream",
     "text": [
      "torch.Size([40000, 1, 1, 31])\n",
      "torch.Size([10000, 1, 1, 31])\n"
     ]
    },
    {
     "name": "stderr",
     "output_type": "stream",
     "text": [
      "Epoch 16, global step 32776: 'val_loss' reached 2.80151 (best 2.80151), saving model to 'saved_models/classifier/model_bc6_do1/version_0/checkpoints/epoch=16-val_loss=2.80.ckpt' as top 1\n"
     ]
    },
    {
     "data": {
      "application/vnd.jupyter.widget-view+json": {
       "model_id": "27739db5444b48b696fbb5c4efc2522c",
       "version_major": 2,
       "version_minor": 0
      },
      "text/plain": [
       "Validation: |          | 0/? [00:00<?, ?it/s]"
      ]
     },
     "metadata": {},
     "output_type": "display_data"
    },
    {
     "name": "stdout",
     "output_type": "stream",
     "text": [
      "torch.Size([40000, 1, 1, 31])\n",
      "torch.Size([10000, 1, 1, 31])\n"
     ]
    },
    {
     "name": "stderr",
     "output_type": "stream",
     "text": [
      "Epoch 17, global step 34704: 'val_loss' reached 2.78707 (best 2.78707), saving model to 'saved_models/classifier/model_bc6_do1/version_0/checkpoints/epoch=17-val_loss=2.79.ckpt' as top 1\n"
     ]
    },
    {
     "data": {
      "application/vnd.jupyter.widget-view+json": {
       "model_id": "3170c465fbbd49a3ad29f826c1eed46f",
       "version_major": 2,
       "version_minor": 0
      },
      "text/plain": [
       "Validation: |          | 0/? [00:00<?, ?it/s]"
      ]
     },
     "metadata": {},
     "output_type": "display_data"
    },
    {
     "name": "stdout",
     "output_type": "stream",
     "text": [
      "torch.Size([40000, 1, 1, 31])\n",
      "torch.Size([10000, 1, 1, 31])\n"
     ]
    },
    {
     "name": "stderr",
     "output_type": "stream",
     "text": [
      "Epoch 18, global step 36632: 'val_loss' reached 2.77207 (best 2.77207), saving model to 'saved_models/classifier/model_bc6_do1/version_0/checkpoints/epoch=18-val_loss=2.77.ckpt' as top 1\n"
     ]
    },
    {
     "data": {
      "application/vnd.jupyter.widget-view+json": {
       "model_id": "e0b32f8bab0140f79006b84d2cf8a0fc",
       "version_major": 2,
       "version_minor": 0
      },
      "text/plain": [
       "Validation: |          | 0/? [00:00<?, ?it/s]"
      ]
     },
     "metadata": {},
     "output_type": "display_data"
    },
    {
     "name": "stdout",
     "output_type": "stream",
     "text": [
      "torch.Size([40000, 1, 1, 31])\n",
      "torch.Size([10000, 1, 1, 31])\n"
     ]
    },
    {
     "name": "stderr",
     "output_type": "stream",
     "text": [
      "Epoch 19, global step 38560: 'val_loss' reached 2.76480 (best 2.76480), saving model to 'saved_models/classifier/model_bc6_do1/version_0/checkpoints/epoch=19-val_loss=2.76.ckpt' as top 1\n"
     ]
    },
    {
     "data": {
      "application/vnd.jupyter.widget-view+json": {
       "model_id": "6e8fbf398f7745e2b34cfacd747cac09",
       "version_major": 2,
       "version_minor": 0
      },
      "text/plain": [
       "Validation: |          | 0/? [00:00<?, ?it/s]"
      ]
     },
     "metadata": {},
     "output_type": "display_data"
    },
    {
     "name": "stdout",
     "output_type": "stream",
     "text": [
      "torch.Size([40000, 1, 1, 31])\n",
      "torch.Size([10000, 1, 1, 31])\n"
     ]
    },
    {
     "name": "stderr",
     "output_type": "stream",
     "text": [
      "Epoch 20, global step 40488: 'val_loss' reached 2.75413 (best 2.75413), saving model to 'saved_models/classifier/model_bc6_do1/version_0/checkpoints/epoch=20-val_loss=2.75.ckpt' as top 1\n"
     ]
    },
    {
     "data": {
      "application/vnd.jupyter.widget-view+json": {
       "model_id": "fcb120f3f2ea43f9822010ef7353709a",
       "version_major": 2,
       "version_minor": 0
      },
      "text/plain": [
       "Validation: |          | 0/? [00:00<?, ?it/s]"
      ]
     },
     "metadata": {},
     "output_type": "display_data"
    },
    {
     "name": "stdout",
     "output_type": "stream",
     "text": [
      "torch.Size([40000, 1, 1, 31])\n",
      "torch.Size([10000, 1, 1, 31])\n"
     ]
    },
    {
     "name": "stderr",
     "output_type": "stream",
     "text": [
      "Epoch 21, global step 42416: 'val_loss' reached 2.74167 (best 2.74167), saving model to 'saved_models/classifier/model_bc6_do1/version_0/checkpoints/epoch=21-val_loss=2.74.ckpt' as top 1\n"
     ]
    },
    {
     "data": {
      "application/vnd.jupyter.widget-view+json": {
       "model_id": "515460362e864e6cb19900b14616fbbe",
       "version_major": 2,
       "version_minor": 0
      },
      "text/plain": [
       "Validation: |          | 0/? [00:00<?, ?it/s]"
      ]
     },
     "metadata": {},
     "output_type": "display_data"
    },
    {
     "name": "stdout",
     "output_type": "stream",
     "text": [
      "torch.Size([40000, 1, 1, 31])\n",
      "torch.Size([10000, 1, 1, 31])\n"
     ]
    },
    {
     "name": "stderr",
     "output_type": "stream",
     "text": [
      "Epoch 22, global step 44344: 'val_loss' reached 2.73224 (best 2.73224), saving model to 'saved_models/classifier/model_bc6_do1/version_0/checkpoints/epoch=22-val_loss=2.73.ckpt' as top 1\n"
     ]
    },
    {
     "data": {
      "application/vnd.jupyter.widget-view+json": {
       "model_id": "2a3add54d795463da71832fa1dc07c3e",
       "version_major": 2,
       "version_minor": 0
      },
      "text/plain": [
       "Validation: |          | 0/? [00:00<?, ?it/s]"
      ]
     },
     "metadata": {},
     "output_type": "display_data"
    },
    {
     "name": "stdout",
     "output_type": "stream",
     "text": [
      "torch.Size([40000, 1, 1, 31])\n",
      "torch.Size([10000, 1, 1, 31])\n"
     ]
    },
    {
     "name": "stderr",
     "output_type": "stream",
     "text": [
      "Epoch 23, global step 46272: 'val_loss' reached 2.72696 (best 2.72696), saving model to 'saved_models/classifier/model_bc6_do1/version_0/checkpoints/epoch=23-val_loss=2.73.ckpt' as top 1\n"
     ]
    },
    {
     "data": {
      "application/vnd.jupyter.widget-view+json": {
       "model_id": "cfdf0e2a80a34e4c8b3bf58f64f063b5",
       "version_major": 2,
       "version_minor": 0
      },
      "text/plain": [
       "Validation: |          | 0/? [00:00<?, ?it/s]"
      ]
     },
     "metadata": {},
     "output_type": "display_data"
    },
    {
     "name": "stdout",
     "output_type": "stream",
     "text": [
      "torch.Size([40000, 1, 1, 31])\n",
      "torch.Size([10000, 1, 1, 31])\n"
     ]
    },
    {
     "name": "stderr",
     "output_type": "stream",
     "text": [
      "Epoch 24, global step 48200: 'val_loss' reached 2.71875 (best 2.71875), saving model to 'saved_models/classifier/model_bc6_do1/version_0/checkpoints/epoch=24-val_loss=2.72.ckpt' as top 1\n"
     ]
    },
    {
     "data": {
      "application/vnd.jupyter.widget-view+json": {
       "model_id": "7ed5ebf1de1d447ea36e5e4df24efd57",
       "version_major": 2,
       "version_minor": 0
      },
      "text/plain": [
       "Validation: |          | 0/? [00:00<?, ?it/s]"
      ]
     },
     "metadata": {},
     "output_type": "display_data"
    },
    {
     "name": "stdout",
     "output_type": "stream",
     "text": [
      "torch.Size([40000, 1, 1, 31])\n",
      "torch.Size([10000, 1, 1, 31])\n"
     ]
    },
    {
     "name": "stderr",
     "output_type": "stream",
     "text": [
      "Epoch 25, global step 50128: 'val_loss' reached 2.71316 (best 2.71316), saving model to 'saved_models/classifier/model_bc6_do1/version_0/checkpoints/epoch=25-val_loss=2.71.ckpt' as top 1\n"
     ]
    },
    {
     "data": {
      "application/vnd.jupyter.widget-view+json": {
       "model_id": "dba1cc68973847f6a84e6da2562cdd90",
       "version_major": 2,
       "version_minor": 0
      },
      "text/plain": [
       "Validation: |          | 0/? [00:00<?, ?it/s]"
      ]
     },
     "metadata": {},
     "output_type": "display_data"
    },
    {
     "name": "stdout",
     "output_type": "stream",
     "text": [
      "torch.Size([40000, 1, 1, 31])\n",
      "torch.Size([10000, 1, 1, 31])\n"
     ]
    },
    {
     "name": "stderr",
     "output_type": "stream",
     "text": [
      "Epoch 26, global step 52056: 'val_loss' reached 2.70658 (best 2.70658), saving model to 'saved_models/classifier/model_bc6_do1/version_0/checkpoints/epoch=26-val_loss=2.71.ckpt' as top 1\n"
     ]
    },
    {
     "data": {
      "application/vnd.jupyter.widget-view+json": {
       "model_id": "5c7f035e3e414c3cada6a4031f0ce936",
       "version_major": 2,
       "version_minor": 0
      },
      "text/plain": [
       "Validation: |          | 0/? [00:00<?, ?it/s]"
      ]
     },
     "metadata": {},
     "output_type": "display_data"
    },
    {
     "name": "stdout",
     "output_type": "stream",
     "text": [
      "torch.Size([40000, 1, 1, 31])\n",
      "torch.Size([10000, 1, 1, 31])\n"
     ]
    },
    {
     "name": "stderr",
     "output_type": "stream",
     "text": [
      "Epoch 27, global step 53984: 'val_loss' reached 2.70280 (best 2.70280), saving model to 'saved_models/classifier/model_bc6_do1/version_0/checkpoints/epoch=27-val_loss=2.70.ckpt' as top 1\n"
     ]
    },
    {
     "data": {
      "application/vnd.jupyter.widget-view+json": {
       "model_id": "081de39500114327aa3c5451776acde8",
       "version_major": 2,
       "version_minor": 0
      },
      "text/plain": [
       "Validation: |          | 0/? [00:00<?, ?it/s]"
      ]
     },
     "metadata": {},
     "output_type": "display_data"
    },
    {
     "name": "stdout",
     "output_type": "stream",
     "text": [
      "torch.Size([40000, 1, 1, 31])\n",
      "torch.Size([10000, 1, 1, 31])\n"
     ]
    },
    {
     "name": "stderr",
     "output_type": "stream",
     "text": [
      "Epoch 28, global step 55912: 'val_loss' reached 2.69908 (best 2.69908), saving model to 'saved_models/classifier/model_bc6_do1/version_0/checkpoints/epoch=28-val_loss=2.70.ckpt' as top 1\n"
     ]
    },
    {
     "data": {
      "application/vnd.jupyter.widget-view+json": {
       "model_id": "6e0299ef32c54da898e6fbb073366621",
       "version_major": 2,
       "version_minor": 0
      },
      "text/plain": [
       "Validation: |          | 0/? [00:00<?, ?it/s]"
      ]
     },
     "metadata": {},
     "output_type": "display_data"
    },
    {
     "name": "stdout",
     "output_type": "stream",
     "text": [
      "torch.Size([40000, 1, 1, 31])\n",
      "torch.Size([10000, 1, 1, 31])\n"
     ]
    },
    {
     "name": "stderr",
     "output_type": "stream",
     "text": [
      "Epoch 29, global step 57840: 'val_loss' reached 2.69387 (best 2.69387), saving model to 'saved_models/classifier/model_bc6_do1/version_0/checkpoints/epoch=29-val_loss=2.69.ckpt' as top 1\n"
     ]
    },
    {
     "data": {
      "application/vnd.jupyter.widget-view+json": {
       "model_id": "905419f63da94ff68798c1c4230b0357",
       "version_major": 2,
       "version_minor": 0
      },
      "text/plain": [
       "Validation: |          | 0/? [00:00<?, ?it/s]"
      ]
     },
     "metadata": {},
     "output_type": "display_data"
    },
    {
     "name": "stdout",
     "output_type": "stream",
     "text": [
      "torch.Size([40000, 1, 1, 31])\n",
      "torch.Size([10000, 1, 1, 31])\n"
     ]
    },
    {
     "name": "stderr",
     "output_type": "stream",
     "text": [
      "Epoch 30, global step 59768: 'val_loss' reached 2.69191 (best 2.69191), saving model to 'saved_models/classifier/model_bc6_do1/version_0/checkpoints/epoch=30-val_loss=2.69.ckpt' as top 1\n"
     ]
    },
    {
     "data": {
      "application/vnd.jupyter.widget-view+json": {
       "model_id": "8f066c1e926c4c70a4450b5cded745cd",
       "version_major": 2,
       "version_minor": 0
      },
      "text/plain": [
       "Validation: |          | 0/? [00:00<?, ?it/s]"
      ]
     },
     "metadata": {},
     "output_type": "display_data"
    },
    {
     "name": "stdout",
     "output_type": "stream",
     "text": [
      "torch.Size([40000, 1, 1, 31])\n",
      "torch.Size([10000, 1, 1, 31])\n"
     ]
    },
    {
     "name": "stderr",
     "output_type": "stream",
     "text": [
      "Epoch 31, global step 61696: 'val_loss' reached 2.68795 (best 2.68795), saving model to 'saved_models/classifier/model_bc6_do1/version_0/checkpoints/epoch=31-val_loss=2.69.ckpt' as top 1\n"
     ]
    },
    {
     "data": {
      "application/vnd.jupyter.widget-view+json": {
       "model_id": "7d22d6e4ed634eaf9c4e98224e8d2b1a",
       "version_major": 2,
       "version_minor": 0
      },
      "text/plain": [
       "Validation: |          | 0/? [00:00<?, ?it/s]"
      ]
     },
     "metadata": {},
     "output_type": "display_data"
    },
    {
     "name": "stdout",
     "output_type": "stream",
     "text": [
      "torch.Size([40000, 1, 1, 31])\n",
      "torch.Size([10000, 1, 1, 31])\n"
     ]
    },
    {
     "name": "stderr",
     "output_type": "stream",
     "text": [
      "Epoch 32, global step 63624: 'val_loss' reached 2.68738 (best 2.68738), saving model to 'saved_models/classifier/model_bc6_do1/version_0/checkpoints/epoch=32-val_loss=2.69.ckpt' as top 1\n"
     ]
    },
    {
     "data": {
      "application/vnd.jupyter.widget-view+json": {
       "model_id": "66e6dac7a5ec4095a0b3400b95c4f0a2",
       "version_major": 2,
       "version_minor": 0
      },
      "text/plain": [
       "Validation: |          | 0/? [00:00<?, ?it/s]"
      ]
     },
     "metadata": {},
     "output_type": "display_data"
    },
    {
     "name": "stdout",
     "output_type": "stream",
     "text": [
      "torch.Size([40000, 1, 1, 31])\n",
      "torch.Size([10000, 1, 1, 31])\n"
     ]
    },
    {
     "name": "stderr",
     "output_type": "stream",
     "text": [
      "Epoch 33, global step 65552: 'val_loss' reached 2.68377 (best 2.68377), saving model to 'saved_models/classifier/model_bc6_do1/version_0/checkpoints/epoch=33-val_loss=2.68.ckpt' as top 1\n"
     ]
    },
    {
     "data": {
      "application/vnd.jupyter.widget-view+json": {
       "model_id": "b1e7175719204ae4b8098cf56de32842",
       "version_major": 2,
       "version_minor": 0
      },
      "text/plain": [
       "Validation: |          | 0/? [00:00<?, ?it/s]"
      ]
     },
     "metadata": {},
     "output_type": "display_data"
    },
    {
     "name": "stdout",
     "output_type": "stream",
     "text": [
      "torch.Size([40000, 1, 1, 31])\n",
      "torch.Size([10000, 1, 1, 31])\n"
     ]
    },
    {
     "name": "stderr",
     "output_type": "stream",
     "text": [
      "Epoch 34, global step 67480: 'val_loss' reached 2.68194 (best 2.68194), saving model to 'saved_models/classifier/model_bc6_do1/version_0/checkpoints/epoch=34-val_loss=2.68.ckpt' as top 1\n"
     ]
    },
    {
     "data": {
      "application/vnd.jupyter.widget-view+json": {
       "model_id": "ed650cd9f553477c86efb7bba8b3893d",
       "version_major": 2,
       "version_minor": 0
      },
      "text/plain": [
       "Validation: |          | 0/? [00:00<?, ?it/s]"
      ]
     },
     "metadata": {},
     "output_type": "display_data"
    },
    {
     "name": "stdout",
     "output_type": "stream",
     "text": [
      "torch.Size([40000, 1, 1, 31])\n",
      "torch.Size([10000, 1, 1, 31])\n"
     ]
    },
    {
     "name": "stderr",
     "output_type": "stream",
     "text": [
      "Epoch 35, global step 69408: 'val_loss' reached 2.67987 (best 2.67987), saving model to 'saved_models/classifier/model_bc6_do1/version_0/checkpoints/epoch=35-val_loss=2.68.ckpt' as top 1\n"
     ]
    },
    {
     "data": {
      "application/vnd.jupyter.widget-view+json": {
       "model_id": "0cd4d265650546c48a9a1911195a6d5a",
       "version_major": 2,
       "version_minor": 0
      },
      "text/plain": [
       "Validation: |          | 0/? [00:00<?, ?it/s]"
      ]
     },
     "metadata": {},
     "output_type": "display_data"
    },
    {
     "name": "stdout",
     "output_type": "stream",
     "text": [
      "torch.Size([40000, 1, 1, 31])\n",
      "torch.Size([10000, 1, 1, 31])\n"
     ]
    },
    {
     "name": "stderr",
     "output_type": "stream",
     "text": [
      "Epoch 36, global step 71336: 'val_loss' reached 2.67916 (best 2.67916), saving model to 'saved_models/classifier/model_bc6_do1/version_0/checkpoints/epoch=36-val_loss=2.68.ckpt' as top 1\n"
     ]
    },
    {
     "data": {
      "application/vnd.jupyter.widget-view+json": {
       "model_id": "2842ee163bfa4633981d66c74fe3c9cc",
       "version_major": 2,
       "version_minor": 0
      },
      "text/plain": [
       "Validation: |          | 0/? [00:00<?, ?it/s]"
      ]
     },
     "metadata": {},
     "output_type": "display_data"
    },
    {
     "name": "stdout",
     "output_type": "stream",
     "text": [
      "torch.Size([40000, 1, 1, 31])\n",
      "torch.Size([10000, 1, 1, 31])\n"
     ]
    },
    {
     "name": "stderr",
     "output_type": "stream",
     "text": [
      "Epoch 37, global step 73264: 'val_loss' reached 2.67695 (best 2.67695), saving model to 'saved_models/classifier/model_bc6_do1/version_0/checkpoints/epoch=37-val_loss=2.68.ckpt' as top 1\n"
     ]
    },
    {
     "data": {
      "application/vnd.jupyter.widget-view+json": {
       "model_id": "54bb62a5c33f46a3bcf5e803ebc5a917",
       "version_major": 2,
       "version_minor": 0
      },
      "text/plain": [
       "Validation: |          | 0/? [00:00<?, ?it/s]"
      ]
     },
     "metadata": {},
     "output_type": "display_data"
    },
    {
     "name": "stdout",
     "output_type": "stream",
     "text": [
      "torch.Size([40000, 1, 1, 31])\n",
      "torch.Size([10000, 1, 1, 31])\n"
     ]
    },
    {
     "name": "stderr",
     "output_type": "stream",
     "text": [
      "Epoch 38, global step 75192: 'val_loss' reached 2.67565 (best 2.67565), saving model to 'saved_models/classifier/model_bc6_do1/version_0/checkpoints/epoch=38-val_loss=2.68.ckpt' as top 1\n"
     ]
    },
    {
     "data": {
      "application/vnd.jupyter.widget-view+json": {
       "model_id": "2c20a59644084d5db3e93332071fb77b",
       "version_major": 2,
       "version_minor": 0
      },
      "text/plain": [
       "Validation: |          | 0/? [00:00<?, ?it/s]"
      ]
     },
     "metadata": {},
     "output_type": "display_data"
    },
    {
     "name": "stdout",
     "output_type": "stream",
     "text": [
      "torch.Size([40000, 1, 1, 31])\n",
      "torch.Size([10000, 1, 1, 31])\n"
     ]
    },
    {
     "name": "stderr",
     "output_type": "stream",
     "text": [
      "Epoch 39, global step 77120: 'val_loss' reached 2.67476 (best 2.67476), saving model to 'saved_models/classifier/model_bc6_do1/version_0/checkpoints/epoch=39-val_loss=2.67.ckpt' as top 1\n"
     ]
    },
    {
     "data": {
      "application/vnd.jupyter.widget-view+json": {
       "model_id": "f8f0f8fdccef432b9d1d9e5d64a99a77",
       "version_major": 2,
       "version_minor": 0
      },
      "text/plain": [
       "Validation: |          | 0/? [00:00<?, ?it/s]"
      ]
     },
     "metadata": {},
     "output_type": "display_data"
    },
    {
     "name": "stdout",
     "output_type": "stream",
     "text": [
      "torch.Size([40000, 1, 1, 31])\n",
      "torch.Size([10000, 1, 1, 31])\n"
     ]
    },
    {
     "name": "stderr",
     "output_type": "stream",
     "text": [
      "Epoch 40, global step 79048: 'val_loss' was not in top 1\n"
     ]
    },
    {
     "data": {
      "application/vnd.jupyter.widget-view+json": {
       "model_id": "ac57e611a49b4a6b8d148400e22349cd",
       "version_major": 2,
       "version_minor": 0
      },
      "text/plain": [
       "Validation: |          | 0/? [00:00<?, ?it/s]"
      ]
     },
     "metadata": {},
     "output_type": "display_data"
    },
    {
     "name": "stdout",
     "output_type": "stream",
     "text": [
      "torch.Size([40000, 1, 1, 31])\n",
      "torch.Size([10000, 1, 1, 31])\n"
     ]
    },
    {
     "name": "stderr",
     "output_type": "stream",
     "text": [
      "Epoch 41, global step 80976: 'val_loss' reached 2.67338 (best 2.67338), saving model to 'saved_models/classifier/model_bc6_do1/version_0/checkpoints/epoch=41-val_loss=2.67.ckpt' as top 1\n"
     ]
    },
    {
     "data": {
      "application/vnd.jupyter.widget-view+json": {
       "model_id": "1c302526d4714db284dc24459c7a595e",
       "version_major": 2,
       "version_minor": 0
      },
      "text/plain": [
       "Validation: |          | 0/? [00:00<?, ?it/s]"
      ]
     },
     "metadata": {},
     "output_type": "display_data"
    },
    {
     "name": "stdout",
     "output_type": "stream",
     "text": [
      "torch.Size([40000, 1, 1, 31])\n"
     ]
    }
   ],
   "source": [
    "#Training loop\n",
    "colors = [\"b\", \"g\", \"r\", \"c\", \"m\", \"y\", \"k\", \"w\", \"orange\", \"purple\"]\n",
    "model_list= []\n",
    "for nlayers in nLayers_list:\n",
    "    model_ld, result_ld = train(nlayers, retrain=retrain)\n",
    "    model_list.append({\"nlayers\": nlayers,\n",
    "                       \"model\": model_ld, \n",
    "                       \"result\": result_ld, \n",
    "                       \"color\": colors.pop(0)})\n",
    "    "
   ]
  },
  {
   "cell_type": "code",
   "execution_count": null,
   "id": "f92a2ceb",
   "metadata": {},
   "outputs": [
    {
     "ename": "KeyError",
     "evalue": "'latent_dim'",
     "output_type": "error",
     "traceback": [
      "\u001b[0;31m---------------------------------------------------------------------------\u001b[0m",
      "\u001b[0;31mKeyError\u001b[0m                                  Traceback (most recent call last)",
      "Cell \u001b[0;32mIn[9], line 3\u001b[0m\n\u001b[1;32m      1\u001b[0m \u001b[38;5;66;03m#Compare loss as a function of latent dimensionality\u001b[39;00m\n\u001b[0;32m----> 3\u001b[0m latent_dims \u001b[38;5;241m=\u001b[39m \u001b[43m[\u001b[49m\u001b[43mm\u001b[49m\u001b[43m[\u001b[49m\u001b[38;5;124;43m\"\u001b[39;49m\u001b[38;5;124;43mlatent_dim\u001b[39;49m\u001b[38;5;124;43m\"\u001b[39;49m\u001b[43m]\u001b[49m\u001b[43m \u001b[49m\u001b[38;5;28;43;01mfor\u001b[39;49;00m\u001b[43m \u001b[49m\u001b[43mm\u001b[49m\u001b[43m \u001b[49m\u001b[38;5;129;43;01min\u001b[39;49;00m\u001b[43m \u001b[49m\u001b[43mmodel_list\u001b[49m\u001b[43m]\u001b[49m\n\u001b[1;32m      4\u001b[0m nlayers \u001b[38;5;241m=\u001b[39m [m[\u001b[38;5;124m\"\u001b[39m\u001b[38;5;124mnlayers\u001b[39m\u001b[38;5;124m\"\u001b[39m] \u001b[38;5;28;01mfor\u001b[39;00m m \u001b[38;5;129;01min\u001b[39;00m model_list]\n\u001b[1;32m      5\u001b[0m val_scores \u001b[38;5;241m=\u001b[39m [m[\u001b[38;5;124m\"\u001b[39m\u001b[38;5;124mresult\u001b[39m\u001b[38;5;124m\"\u001b[39m][\u001b[38;5;124m\"\u001b[39m\u001b[38;5;124mval\u001b[39m\u001b[38;5;124m\"\u001b[39m][\u001b[38;5;241m0\u001b[39m][\u001b[38;5;124m\"\u001b[39m\u001b[38;5;124mtest_loss\u001b[39m\u001b[38;5;124m\"\u001b[39m] \u001b[38;5;28;01mfor\u001b[39;00m m \u001b[38;5;129;01min\u001b[39;00m model_list]\n",
      "Cell \u001b[0;32mIn[9], line 3\u001b[0m, in \u001b[0;36m<listcomp>\u001b[0;34m(.0)\u001b[0m\n\u001b[1;32m      1\u001b[0m \u001b[38;5;66;03m#Compare loss as a function of latent dimensionality\u001b[39;00m\n\u001b[0;32m----> 3\u001b[0m latent_dims \u001b[38;5;241m=\u001b[39m [\u001b[43mm\u001b[49m\u001b[43m[\u001b[49m\u001b[38;5;124;43m\"\u001b[39;49m\u001b[38;5;124;43mlatent_dim\u001b[39;49m\u001b[38;5;124;43m\"\u001b[39;49m\u001b[43m]\u001b[49m \u001b[38;5;28;01mfor\u001b[39;00m m \u001b[38;5;129;01min\u001b[39;00m model_list]\n\u001b[1;32m      4\u001b[0m nlayers \u001b[38;5;241m=\u001b[39m [m[\u001b[38;5;124m\"\u001b[39m\u001b[38;5;124mnlayers\u001b[39m\u001b[38;5;124m\"\u001b[39m] \u001b[38;5;28;01mfor\u001b[39;00m m \u001b[38;5;129;01min\u001b[39;00m model_list]\n\u001b[1;32m      5\u001b[0m val_scores \u001b[38;5;241m=\u001b[39m [m[\u001b[38;5;124m\"\u001b[39m\u001b[38;5;124mresult\u001b[39m\u001b[38;5;124m\"\u001b[39m][\u001b[38;5;124m\"\u001b[39m\u001b[38;5;124mval\u001b[39m\u001b[38;5;124m\"\u001b[39m][\u001b[38;5;241m0\u001b[39m][\u001b[38;5;124m\"\u001b[39m\u001b[38;5;124mtest_loss\u001b[39m\u001b[38;5;124m\"\u001b[39m] \u001b[38;5;28;01mfor\u001b[39;00m m \u001b[38;5;129;01min\u001b[39;00m model_list]\n",
      "\u001b[0;31mKeyError\u001b[0m: 'latent_dim'"
     ]
    }
   ],
   "source": [
    " #Compare loss as a function of latent dimensionality\n",
    "\n",
    "latent_dims = [m[\"latent_dim\"] for m in model_list]\n",
    "nlayers = [m[\"nlayers\"] for m in model_list]\n",
    "val_scores = [m[\"result\"][\"val\"][0][\"test_loss\"] for m in model_list]\n",
    "colors = [m[\"color\"] for m in model_list]\n",
    "\n",
    "fig, axes = plt.subplots(1, 3, figsize=(16, 4))\n",
    "axes[0].scatter(latent_dims, val_scores, color=colors, marker=\"*\", s=100)\n",
    "axes[0].set_xlabel(\"Latent Dimensionality\")\n",
    "axes[0].set_ylabel(\"Validation Loss\")\n",
    "\n",
    "axes[1].scatter(nlayers, val_scores, color=colors, marker=\"*\", s=100)\n",
    "axes[1].set_xlabel(\"Number of Layers\")\n",
    "axes[1].set_ylabel(\"Validation Loss\")\n",
    "\n",
    "# Scatter plot with latent_dim on x-axis, nlayers on y-axis, and colormap on z-axis (val_scores)\n",
    "scatter = axes[2].scatter(latent_dims, nlayers, c=val_scores, cmap='viridis', marker=\"s\", s=600)\n",
    "axes[2].set_xlabel(\"Latent Dimensionality\")\n",
    "axes[2].set_ylabel(\"Number of Layers\")\n",
    "axes[2].set_title(\"Validation Loss\")\n",
    "\n",
    "# Add colorbar\n",
    "cbar = fig.colorbar(scatter, ax=axes[2])\n",
    "cbar.set_label(\"Validation Loss\")\n",
    "plt.show()"
   ]
  },
  {
   "cell_type": "code",
   "execution_count": null,
   "id": "18310b62",
   "metadata": {},
   "outputs": [],
   "source": [
    "#Define plot functions\n",
    "\n",
    "def plot(inTensor, axes, color, dim, label, linestyle=\"--\", skip=0):\n",
    "    for i, ax in enumerate(axes.flat):\n",
    "        if i >= len(inTensor)+skip:\n",
    "            break\n",
    "        if i < skip:\n",
    "            continue    \n",
    "        ax.plot(inTensor[i-skip][0][dim].numpy(), linestyle, color=color, label=label)\n",
    "        ax.legend()\n",
    "\n",
    "def reconstruct_signals(input_signal, model_l, axes, dim):\n",
    "    # Reconstruct images\n",
    "    model = model_l[\"model\"].eval()\n",
    "    color = model_l[\"color\"]\n",
    "    label = \"ld %s nl %s\" % (model_l[\"latent_dim\"], model_l[\"nlayers\"])\n",
    "    with torch.no_grad():\n",
    "        reconst_imgs = model(input_signal[0].to(model.device), input_signal[1].to(model.device))    \n",
    "    reconst_imgs = reconst_imgs.cpu()\n",
    "    plot(reconst_imgs, axes, color, dim, label)\n",
    "\n",
    "def generate_signals(input_latents, model_l, axes, dim, skip=0, color=\"b\"):\n",
    "    # Reconstruct images\n",
    "    model = model_l[\"model\"].eval()\n",
    "    label = \"e=%.1f, x=%.1f, y=%.1f\" % (input_latents[1][0][0].numpy(), input_latents[0][0][0].numpy(), input_latents[0][0][1].numpy())\n",
    "    with torch.no_grad():\n",
    "        reconst_imgs = model.decoder(input_latents[0].to(model.device), input_latents[1].to(model.device))    \n",
    "    reconst_imgs = reconst_imgs.cpu()\n",
    "    plot(reconst_imgs, axes, color, dim, label, skip=skip)"
   ]
  },
  {
   "cell_type": "code",
   "execution_count": null,
   "id": "53bc690f",
   "metadata": {},
   "outputs": [],
   "source": [
    "#Compare the reconstructions with different model hyper-parameters\n",
    "ncols = 4\n",
    "nrows = 16\n",
    "dim = 0\n",
    "\n",
    "fig, axes = plt.subplots(nrows, ncols, figsize=(15, 40))\n",
    "input_imgs = get_train_images(ncols*nrows)\n",
    "#input_imgs = get_validation_images(ncols*nrows)\n",
    "\n",
    "for m in model_list:\n",
    "    reconstruct_signals(input_imgs, m, axes, dim)\n",
    "plot(input_imgs[0], axes, \"black\", dim=dim, label=\"input\", linestyle=\"-\")\n",
    "\n",
    "plt.show()"
   ]
  },
  {
   "cell_type": "code",
   "execution_count": null,
   "id": "4af705ea",
   "metadata": {},
   "outputs": [],
   "source": [
    "#Visualize the latent space\n",
    "\n",
    "import ipywidgets as widgets\n",
    "import ipywidgets as widgets\n",
    "    \n",
    "# Create the slider\n",
    "ene_slider = widgets.FloatSlider(value=0.5, min=0, max=1, step=0.01, description='Energy:')\n",
    "nch = get_train_images(1)[1].shape[1] - 1\n",
    "ch_dropdown = widgets.Dropdown(\n",
    "    options=[(f'Channel {i}', i) for i in range(-1,nch+1)],\n",
    "    value=0,\n",
    "    description='Channel:',\n",
    ")\n",
    "# Display the slider\n",
    "display(ch_dropdown)\n",
    "display(ene_slider)\n",
    "\n",
    "idx_test = 0\n",
    "\n",
    "def get_histo(idx_ch):\n",
    "    with torch.no_grad():\n",
    "        model_list[idx_test][\"model\"].eval()\n",
    "        dataset = get_train_images(500_000)\n",
    "        # Filter the dataset\n",
    "        if idx_ch >= 0:\n",
    "            dataset = (dataset[0][dataset[1][:, idx_ch+1] == 1], \n",
    "                       dataset[1][dataset[1][:, idx_ch+1] == 1])\n",
    "        avg_id = dataset[1].mean(dim=0)\n",
    "\n",
    "        \n",
    "\n",
    "        histoOut = torch.histogramdd(   model_list[idx_test][\"model\"].forward(dataset[0].to(model_list[idx_test][\"model\"].device)),\n",
    "                                        bins=5_000,\n",
    "                                        range = None,\n",
    "                                        )\n",
    "        histoOut[0].detach().numpy()\n",
    "\n",
    "        return [histoOut, avg_id]\n",
    "\n",
    "\n",
    "#Create the 2 canvases\n",
    "fig, axes = plt.subplots(1, 2, figsize=(15, 10))\n",
    "\n",
    "                \n",
    "def on_ch_dropdown_change(change):\n",
    "    value = change['new']\n",
    "    histo, avg_id = get_histo(value)\n",
    "\n",
    "    colors=[\"b\", \"g\", \"r\", \"c\", \"m\", \"y\", \"k\", \"w\", \"orange\", \"purple\", \"brown\", \"pink\", \"olive\", \"cyan\"]\n",
    "\n",
    "    axes[0].imshow( histo[0], \n",
    "                    extent=[histo[1][0][0], \n",
    "                            histo[1][0][-1],\n",
    "                            histo[1][1][0], \n",
    "                            histo[1][1][-1]], \n",
    "                    aspect='auto', \n",
    "                    origin='lower', \n",
    "                    norm=matplotlib.colors.LogNorm())\n",
    "                    \n",
    "    def on_histo_double_click(event):\n",
    "        if event.dblclick:\n",
    "            x = event.xdata\n",
    "            y = event.ydata\n",
    "            if x is not None and y is not None:\n",
    "\n",
    "                #Get coordinates\n",
    "                last_click = [x, y] \n",
    "                print(\"[%.2f, %.2f]\" % (x, y))\n",
    "\n",
    "                color=colors.pop(0)\n",
    "                #Annote in the plot\n",
    "                axes[0].annotate(\"[%.2f, %.2f]\" % (x, y), (x, y), color=color, bbox=dict(facecolor='white', edgecolor='white', alpha=0.5))\n",
    "                axes[0].plot(x, y, 'o', color=color)\n",
    "\n",
    "                #Plot the signal\n",
    "                def on_ene_slider_change(change):\n",
    "                    value = change['new']\n",
    "                    double_click_tensor = torch.FloatTensor([last_click])\n",
    "                    id_tensor = avg_id.unsqueeze(0).repeat(double_click_tensor.size(0), 1)\n",
    "                    id_tensor[:, 0] = value\n",
    "                    generate_signals([double_click_tensor, id_tensor], model_list[idx_test], axes, dim=0, skip=1, color=color)\n",
    "\n",
    "                ene_slider.observe(on_ene_slider_change, names='value')\n",
    "\n",
    "    fig.canvas.mpl_connect('button_press_event', on_histo_double_click)\n",
    "\n",
    "ch_dropdown.observe(on_ch_dropdown_change, names='value')            \n",
    "\n",
    "\n",
    "\n",
    "    \n",
    "\n",
    "plt.show()"
   ]
  },
  {
   "cell_type": "code",
   "execution_count": null,
   "id": "9b81e4ad",
   "metadata": {},
   "outputs": [],
   "source": [
    "#Finding similar signals in the latent space and then checking the signals\n",
    "\n",
    "def embed_imgs(model, data_loader):\n",
    "    # Encode all images in the data_laoder using model, and return both images and encodings\n",
    "    img_list, embed_list = [], []\n",
    "    model.eval()\n",
    "    for imgs, ids in data_loader:\n",
    "        with torch.no_grad():\n",
    "            z = model.encoder(imgs.to(model.device), ids.to(model.device))\n",
    "        img_list.append(imgs)\n",
    "        embed_list.append(z)\n",
    "    return (torch.cat(img_list, dim=0), torch.cat(embed_list, dim=0))\n",
    "\n",
    "\n",
    "train_img_embeds = embed_imgs(model_list[idx_test][\"model\"], train_loader)\n",
    "test_img_embeds = embed_imgs(model_list[idx_test][\"model\"], test_loader)\n",
    "\n",
    "def find_similar_images(query_img, query_z, key_embeds, ax, K=8, dim=0):\n",
    "    # Find closest K images. We use the euclidean distance here but other like cosine distance can also be used.\n",
    "    dist = torch.cdist(query_z[None, :], key_embeds[1], p=2)\n",
    "    dist = dist.squeeze(dim=0)\n",
    "    dist, indices = torch.sort(dist)\n",
    "    # Plot K closest images\n",
    "    imgs_to_display = torch.cat([query_img[None], key_embeds[0][indices[:K]]], dim=0)\n",
    "    #grid = torchvision.utils.make_grid(imgs_to_display, nrow=K + 1, normalize=True, value_range=(-1, 1))\n",
    "    #grid = grid.permute(1, 2, 0)\n",
    "    #plt.figure(figsize=(12, 3))\n",
    "    #plt.imshow(grid)\n",
    "    #plt.axis(\"off\")\n",
    "    #plt.show()\n",
    "    colors = [\"b\", \"g\", \"r\", \"c\", \"m\", \"y\", \"k\", \"w\", \"orange\", \"purple\", \"brown\", \"pink\"]\n",
    "    ax.plot(query_img[0][dim].numpy(), color=\"k\", label=\"query\")\n",
    "    for i in range(imgs_to_display.size()[0]):\n",
    "        ax.plot(imgs_to_display[i][0][dim].numpy(), \"--\", color=colors.pop(0), label=\"latent_dim %i\" % latent_dim)"
   ]
  },
  {
   "cell_type": "code",
   "execution_count": null,
   "id": "fbc1092c",
   "metadata": {},
   "outputs": [],
   "source": [
    "# Plot the closest images for the first N test images as example\n",
    "ncols = 6\n",
    "nrows = 6\n",
    "fig, axes = plt.subplots(nrows, ncols, figsize=(10, 10))\n",
    "for i, ax in enumerate(axes.flat):\n",
    "    find_similar_images(test_img_embeds[0][i], test_img_embeds[1][i], key_embeds=train_img_embeds, K=6, ax=ax, dim=0)\n",
    "\n",
    "#This does not make sense, i probabily did something wrong"
   ]
  }
 ],
 "metadata": {
  "kernelspec": {
   "display_name": "Python 3 (ipykernel)",
   "language": "python",
   "name": "python3"
  },
  "language_info": {
   "codemirror_mode": {
    "name": "ipython",
    "version": 3
   },
   "file_extension": ".py",
   "mimetype": "text/x-python",
   "name": "python",
   "nbconvert_exporter": "python",
   "pygments_lexer": "ipython3",
   "version": "3.11.5"
  }
 },
 "nbformat": 4,
 "nbformat_minor": 5
}
